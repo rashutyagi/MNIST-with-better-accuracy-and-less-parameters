{
  "nbformat": 4,
  "nbformat_minor": 0,
  "metadata": {
    "colab": {
      "name": "Copy of First DNN.ipynb",
      "provenance": [],
      "collapsed_sections": []
    },
    "kernelspec": {
      "name": "python3",
      "display_name": "Python 3"
    },
    "accelerator": "GPU"
  },
  "cells": [
    {
      "cell_type": "markdown",
      "metadata": {
        "id": "aNyZv-Ec52ot",
        "colab_type": "text"
      },
      "source": [
        "# **Import Libraries and modules**"
      ]
    },
    {
      "cell_type": "markdown",
      "metadata": {
        "id": "OH1gQXGAJeo-",
        "colab_type": "text"
      },
      "source": [
        "Let us try out different architectures and see how does the accuracy and the number of parameters vary."
      ]
    },
    {
      "cell_type": "code",
      "metadata": {
        "id": "3m3w1Cw49Zkt",
        "colab_type": "code",
        "outputId": "8e8ffc77-31d7-4bba-f1ae-2f75a0f96105",
        "colab": {
          "base_uri": "https://localhost:8080/",
          "height": 97
        }
      },
      "source": [
        "# https://keras.io/\n",
        "!pip install -q keras\n",
        "import keras"
      ],
      "execution_count": 0,
      "outputs": [
        {
          "output_type": "stream",
          "text": [
            "Using TensorFlow backend.\n"
          ],
          "name": "stderr"
        },
        {
          "output_type": "display_data",
          "data": {
            "text/html": [
              "<p style=\"color: red;\">\n",
              "The default version of TensorFlow in Colab will soon switch to TensorFlow 2.x.<br>\n",
              "We recommend you <a href=\"https://www.tensorflow.org/guide/migrate\" target=\"_blank\">upgrade</a> now \n",
              "or ensure your notebook will continue to use TensorFlow 1.x via the <code>%tensorflow_version 1.x</code> magic:\n",
              "<a href=\"https://colab.research.google.com/notebooks/tensorflow_version.ipynb\" target=\"_blank\">more info</a>.</p>\n"
            ],
            "text/plain": [
              "<IPython.core.display.HTML object>"
            ]
          },
          "metadata": {
            "tags": []
          }
        }
      ]
    },
    {
      "cell_type": "code",
      "metadata": {
        "id": "Eso6UHE080D4",
        "colab_type": "code",
        "colab": {}
      },
      "source": [
        "import numpy as np\n",
        "\n",
        "from keras.models import Sequential\n",
        "from keras.layers import Dense, Dropout, Activation, Flatten, Add\n",
        "from keras.layers import Convolution2D, MaxPooling2D\n",
        "from keras.utils import np_utils\n",
        "\n",
        "from keras.datasets import mnist"
      ],
      "execution_count": 0,
      "outputs": []
    },
    {
      "cell_type": "markdown",
      "metadata": {
        "id": "zByEi95J86RD",
        "colab_type": "text"
      },
      "source": [
        "### Load pre-shuffled MNIST data into train and test sets"
      ]
    },
    {
      "cell_type": "code",
      "metadata": {
        "id": "7eRM0QWN83PV",
        "colab_type": "code",
        "outputId": "1e3d8234-298d-4116-f375-8933a63dba5a",
        "colab": {
          "base_uri": "https://localhost:8080/",
          "height": 51
        }
      },
      "source": [
        "(X_train, y_train), (X_test, y_test) = mnist.load_data()"
      ],
      "execution_count": 0,
      "outputs": [
        {
          "output_type": "stream",
          "text": [
            "Downloading data from https://s3.amazonaws.com/img-datasets/mnist.npz\n",
            "11493376/11490434 [==============================] - 1s 0us/step\n"
          ],
          "name": "stdout"
        }
      ]
    },
    {
      "cell_type": "code",
      "metadata": {
        "id": "4a4Be72j8-ZC",
        "colab_type": "code",
        "outputId": "cb85b023-2a94-41e6-fb1d-28bd33481d56",
        "colab": {
          "base_uri": "https://localhost:8080/",
          "height": 299
        }
      },
      "source": [
        "print (X_train.shape)\n",
        "from matplotlib import pyplot as plt\n",
        "%matplotlib inline\n",
        "plt.imshow(X_train[0])"
      ],
      "execution_count": 0,
      "outputs": [
        {
          "output_type": "stream",
          "text": [
            "(60000, 28, 28)\n"
          ],
          "name": "stdout"
        },
        {
          "output_type": "execute_result",
          "data": {
            "text/plain": [
              "<matplotlib.image.AxesImage at 0x7fc2243089b0>"
            ]
          },
          "metadata": {
            "tags": []
          },
          "execution_count": 4
        },
        {
          "output_type": "display_data",
          "data": {
            "image/png": "[encoded data removed]",
            "text/plain": [
              "<Figure size 432x288 with 1 Axes>"
            ]
          },
          "metadata": {
            "tags": []
          }
        }
      ]
    },
    {
      "cell_type": "code",
      "metadata": {
        "id": "dkmprriw9AnZ",
        "colab_type": "code",
        "colab": {}
      },
      "source": [
        "X_train = X_train.reshape(X_train.shape[0], 28, 28,1)\n",
        "X_test = X_test.reshape(X_test.shape[0], 28, 28,1)"
      ],
      "execution_count": 0,
      "outputs": []
    },
    {
      "cell_type": "code",
      "metadata": {
        "id": "X2m4YS4E9CRh",
        "colab_type": "code",
        "colab": {}
      },
      "source": [
        "X_train = X_train.astype('float32')\n",
        "X_test = X_test.astype('float32')\n",
        "X_train /= 255\n",
        "X_test /= 255"
      ],
      "execution_count": 0,
      "outputs": []
    },
    {
      "cell_type": "code",
      "metadata": {
        "id": "0Mn0vAYD9DvB",
        "colab_type": "code",
        "outputId": "9c094ea1-8618-43f9-e64a-c0de8d67f541",
        "colab": {
          "base_uri": "https://localhost:8080/",
          "height": 34
        }
      },
      "source": [
        "y_train[:10]"
      ],
      "execution_count": 0,
      "outputs": [
        {
          "output_type": "execute_result",
          "data": {
            "text/plain": [
              "array([5, 0, 4, 1, 9, 2, 1, 3, 1, 4], dtype=uint8)"
            ]
          },
          "metadata": {
            "tags": []
          },
          "execution_count": 7
        }
      ]
    },
    {
      "cell_type": "code",
      "metadata": {
        "id": "ZG8JiXR39FHC",
        "colab_type": "code",
        "colab": {}
      },
      "source": [
        "# Convert 1-dimensional class arrays to 10-dimensional class matrices\n",
        "Y_train = np_utils.to_categorical(y_train, 10)\n",
        "Y_test = np_utils.to_categorical(y_test, 10)"
      ],
      "execution_count": 0,
      "outputs": []
    },
    {
      "cell_type": "code",
      "metadata": {
        "id": "fYlFRvKS9HMB",
        "colab_type": "code",
        "outputId": "5a1e8815-7d68-4b72-97ec-6c78ea6777dc",
        "colab": {
          "base_uri": "https://localhost:8080/",
          "height": 187
        }
      },
      "source": [
        "Y_train[:10]\n"
      ],
      "execution_count": 0,
      "outputs": [
        {
          "output_type": "execute_result",
          "data": {
            "text/plain": [
              "array([[0., 0., 0., 0., 0., 1., 0., 0., 0., 0.],\n",
              "       [1., 0., 0., 0., 0., 0., 0., 0., 0., 0.],\n",
              "       [0., 0., 0., 0., 1., 0., 0., 0., 0., 0.],\n",
              "       [0., 1., 0., 0., 0., 0., 0., 0., 0., 0.],\n",
              "       [0., 0., 0., 0., 0., 0., 0., 0., 0., 1.],\n",
              "       [0., 0., 1., 0., 0., 0., 0., 0., 0., 0.],\n",
              "       [0., 1., 0., 0., 0., 0., 0., 0., 0., 0.],\n",
              "       [0., 0., 0., 1., 0., 0., 0., 0., 0., 0.],\n",
              "       [0., 1., 0., 0., 0., 0., 0., 0., 0., 0.],\n",
              "       [0., 0., 0., 0., 1., 0., 0., 0., 0., 0.]], dtype=float32)"
            ]
          },
          "metadata": {
            "tags": []
          },
          "execution_count": 9
        }
      ]
    },
    {
      "cell_type": "code",
      "metadata": {
        "id": "osKqT73Q9JJB",
        "colab_type": "code",
        "outputId": "2c106cfb-a624-498f-f1bb-85c515963fe1",
        "colab": {
          "base_uri": "https://localhost:8080/",
          "height": 173
        }
      },
      "source": [
        "from keras.layers import Activation\n",
        "model = Sequential()\n",
        "\n",
        " \n",
        "model.add(Convolution2D(32, 3, 3, activation='relu', input_shape=(28,28,1)))\n",
        "model.add(Convolution2D(10, 1, activation='relu'))\n",
        "model.add(Convolution2D(10, 26))\n",
        "model.add(Flatten())\n",
        "model.add(Activation('softmax'))"
      ],
      "execution_count": 0,
      "outputs": [
        {
          "output_type": "stream",
          "text": [
            "WARNING:tensorflow:From /usr/local/lib/python3.6/dist-packages/keras/backend/tensorflow_backend.py:66: The name tf.get_default_graph is deprecated. Please use tf.compat.v1.get_default_graph instead.\n",
            "\n",
            "WARNING:tensorflow:From /usr/local/lib/python3.6/dist-packages/keras/backend/tensorflow_backend.py:541: The name tf.placeholder is deprecated. Please use tf.compat.v1.placeholder instead.\n",
            "\n",
            "WARNING:tensorflow:From /usr/local/lib/python3.6/dist-packages/keras/backend/tensorflow_backend.py:4432: The name tf.random_uniform is deprecated. Please use tf.random.uniform instead.\n",
            "\n"
          ],
          "name": "stdout"
        },
        {
          "output_type": "stream",
          "text": [
            "/usr/local/lib/python3.6/dist-packages/ipykernel_launcher.py:5: UserWarning: Update your `Conv2D` call to the Keras 2 API: `Conv2D(32, (3, 3), activation=\"relu\", input_shape=(28, 28, 1...)`\n",
            "  \"\"\"\n"
          ],
          "name": "stderr"
        }
      ]
    },
    {
      "cell_type": "code",
      "metadata": {
        "id": "TzdAYg1k9K7Z",
        "colab_type": "code",
        "outputId": "c3859e58-2fe7-46cf-9114-065714e1e8c2",
        "colab": {
          "base_uri": "https://localhost:8080/",
          "height": 323
        }
      },
      "source": [
        "model.summary()"
      ],
      "execution_count": 0,
      "outputs": [
        {
          "output_type": "stream",
          "text": [
            "Model: \"sequential_1\"\n",
            "_________________________________________________________________\n",
            "Layer (type)                 Output Shape              Param #   \n",
            "=================================================================\n",
            "conv2d_1 (Conv2D)            (None, 26, 26, 32)        320       \n",
            "_________________________________________________________________\n",
            "conv2d_2 (Conv2D)            (None, 26, 26, 10)        330       \n",
            "_________________________________________________________________\n",
            "conv2d_3 (Conv2D)            (None, 1, 1, 10)          67610     \n",
            "_________________________________________________________________\n",
            "flatten_1 (Flatten)          (None, 10)                0         \n",
            "_________________________________________________________________\n",
            "activation_1 (Activation)    (None, 10)                0         \n",
            "=================================================================\n",
            "Total params: 68,260\n",
            "Trainable params: 68,260\n",
            "Non-trainable params: 0\n",
            "_________________________________________________________________\n"
          ],
          "name": "stdout"
        }
      ]
    },
    {
      "cell_type": "code",
      "metadata": {
        "id": "Zp6SuGrL9M3h",
        "colab_type": "code",
        "outputId": "13ed2218-114a-41f2-968c-277765a1d095",
        "colab": {
          "base_uri": "https://localhost:8080/",
          "height": 105
        }
      },
      "source": [
        "model.compile(loss='categorical_crossentropy',\n",
        "             optimizer='adam',\n",
        "             metrics=['accuracy'])"
      ],
      "execution_count": 0,
      "outputs": [
        {
          "output_type": "stream",
          "text": [
            "WARNING:tensorflow:From /usr/local/lib/python3.6/dist-packages/keras/optimizers.py:793: The name tf.train.Optimizer is deprecated. Please use tf.compat.v1.train.Optimizer instead.\n",
            "\n",
            "WARNING:tensorflow:From /usr/local/lib/python3.6/dist-packages/keras/backend/tensorflow_backend.py:3576: The name tf.log is deprecated. Please use tf.math.log instead.\n",
            "\n"
          ],
          "name": "stdout"
        }
      ]
    },
    {
      "cell_type": "code",
      "metadata": {
        "id": "4xWoKhPY9Of5",
        "colab_type": "code",
        "outputId": "c20ee989-bd3b-4a85-8af7-e591d80c9aaa",
        "colab": {
          "base_uri": "https://localhost:8080/",
          "height": 751
        }
      },
      "source": [
        "model.fit(X_train, Y_train, batch_size=32, nb_epoch=10, verbose=1)"
      ],
      "execution_count": 0,
      "outputs": [
        {
          "output_type": "stream",
          "text": [
            "WARNING:tensorflow:From /usr/local/lib/python3.6/dist-packages/tensorflow_core/python/ops/math_grad.py:1424: where (from tensorflow.python.ops.array_ops) is deprecated and will be removed in a future version.\n",
            "Instructions for updating:\n",
            "Use tf.where in 2.0, which has the same broadcast rule as np.where\n",
            "WARNING:tensorflow:From /usr/local/lib/python3.6/dist-packages/keras/backend/tensorflow_backend.py:1033: The name tf.assign_add is deprecated. Please use tf.compat.v1.assign_add instead.\n",
            "\n"
          ],
          "name": "stdout"
        },
        {
          "output_type": "stream",
          "text": [
            "/usr/local/lib/python3.6/dist-packages/ipykernel_launcher.py:1: UserWarning: The `nb_epoch` argument in `fit` has been renamed `epochs`.\n",
            "  \"\"\"Entry point for launching an IPython kernel.\n"
          ],
          "name": "stderr"
        },
        {
          "output_type": "stream",
          "text": [
            "WARNING:tensorflow:From /usr/local/lib/python3.6/dist-packages/keras/backend/tensorflow_backend.py:1020: The name tf.assign is deprecated. Please use tf.compat.v1.assign instead.\n",
            "\n",
            "WARNING:tensorflow:From /usr/local/lib/python3.6/dist-packages/keras/backend/tensorflow_backend.py:3005: The name tf.Session is deprecated. Please use tf.compat.v1.Session instead.\n",
            "\n",
            "Epoch 1/10\n",
            "WARNING:tensorflow:From /usr/local/lib/python3.6/dist-packages/keras/backend/tensorflow_backend.py:190: The name tf.get_default_session is deprecated. Please use tf.compat.v1.get_default_session instead.\n",
            "\n",
            "WARNING:tensorflow:From /usr/local/lib/python3.6/dist-packages/keras/backend/tensorflow_backend.py:197: The name tf.ConfigProto is deprecated. Please use tf.compat.v1.ConfigProto instead.\n",
            "\n",
            "WARNING:tensorflow:From /usr/local/lib/python3.6/dist-packages/keras/backend/tensorflow_backend.py:207: The name tf.global_variables is deprecated. Please use tf.compat.v1.global_variables instead.\n",
            "\n",
            "WARNING:tensorflow:From /usr/local/lib/python3.6/dist-packages/keras/backend/tensorflow_backend.py:216: The name tf.is_variable_initialized is deprecated. Please use tf.compat.v1.is_variable_initialized instead.\n",
            "\n",
            "WARNING:tensorflow:From /usr/local/lib/python3.6/dist-packages/keras/backend/tensorflow_backend.py:223: The name tf.variables_initializer is deprecated. Please use tf.compat.v1.variables_initializer instead.\n",
            "\n",
            "60000/60000 [==============================] - 19s 314us/step - loss: 0.1998 - acc: 0.9434\n",
            "Epoch 2/10\n",
            "60000/60000 [==============================] - 11s 178us/step - loss: 0.0746 - acc: 0.9779\n",
            "Epoch 3/10\n",
            "60000/60000 [==============================] - 10s 169us/step - loss: 0.0572 - acc: 0.9820\n",
            "Epoch 4/10\n",
            "60000/60000 [==============================] - 11s 176us/step - loss: 0.0436 - acc: 0.9865\n",
            "Epoch 5/10\n",
            "60000/60000 [==============================] - 10s 170us/step - loss: 0.0357 - acc: 0.9885\n",
            "Epoch 6/10\n",
            "60000/60000 [==============================] - 11s 178us/step - loss: 0.0266 - acc: 0.9919\n",
            "Epoch 7/10\n",
            "60000/60000 [==============================] - 10s 171us/step - loss: 0.0212 - acc: 0.9931\n",
            "Epoch 8/10\n",
            "60000/60000 [==============================] - 10s 175us/step - loss: 0.0173 - acc: 0.9941\n",
            "Epoch 9/10\n",
            "60000/60000 [==============================] - 11s 178us/step - loss: 0.0141 - acc: 0.9955\n",
            "Epoch 10/10\n",
            "60000/60000 [==============================] - 11s 180us/step - loss: 0.0101 - acc: 0.9966\n"
          ],
          "name": "stdout"
        },
        {
          "output_type": "execute_result",
          "data": {
            "text/plain": [
              "<keras.callbacks.History at 0x7fc223e9a9e8>"
            ]
          },
          "metadata": {
            "tags": []
          },
          "execution_count": 13
        }
      ]
    },
    {
      "cell_type": "code",
      "metadata": {
        "id": "AtsH-lLk-eLb",
        "colab_type": "code",
        "colab": {}
      },
      "source": [
        "score = model.evaluate(X_test, Y_test, verbose=0)"
      ],
      "execution_count": 0,
      "outputs": []
    },
    {
      "cell_type": "code",
      "metadata": {
        "id": "mkX8JMv79q9r",
        "colab_type": "code",
        "outputId": "b17ca71d-3428-46fc-f857-31a6bff836ed",
        "colab": {
          "base_uri": "https://localhost:8080/",
          "height": 34
        }
      },
      "source": [
        "print(score)"
      ],
      "execution_count": 0,
      "outputs": [
        {
          "output_type": "stream",
          "text": [
            "[0.09145909801976304, 0.9804]\n"
          ],
          "name": "stdout"
        }
      ]
    },
    {
      "cell_type": "code",
      "metadata": {
        "id": "OCWoJkwE9suh",
        "colab_type": "code",
        "colab": {}
      },
      "source": [
        "y_pred = model.predict(X_test)"
      ],
      "execution_count": 0,
      "outputs": []
    },
    {
      "cell_type": "code",
      "metadata": {
        "id": "Ym7iCFBm9uBs",
        "colab_type": "code",
        "outputId": "4fdc15ce-69dd-4297-8674-36a503ba75e4",
        "colab": {
          "base_uri": "https://localhost:8080/",
          "height": 493
        }
      },
      "source": [
        "print(y_pred[:9])\n",
        "print(y_test[:9])"
      ],
      "execution_count": 0,
      "outputs": [
        {
          "output_type": "stream",
          "text": [
            "[[1.41274849e-19 2.23989446e-19 1.70903568e-14 3.40464048e-08\n",
            "  2.46871731e-21 1.09654677e-17 5.65894324e-32 1.00000000e+00\n",
            "  5.86320187e-15 3.53171048e-10]\n",
            " [8.83072424e-13 8.59769395e-13 1.00000000e+00 1.10164412e-11\n",
            "  7.19882365e-25 4.39309674e-14 7.97276795e-13 1.44374919e-25\n",
            "  3.70971288e-16 1.01458775e-19]\n",
            " [3.14744453e-10 9.99917030e-01 2.96914834e-07 1.99832637e-10\n",
            "  8.18324115e-05 1.70038617e-09 2.81538376e-10 3.24753984e-07\n",
            "  6.52064045e-07 3.71960462e-10]\n",
            " [1.00000000e+00 2.74026196e-21 1.25762609e-10 1.66933266e-16\n",
            "  8.12274156e-18 7.92453668e-14 2.35969889e-11 1.53890672e-15\n",
            "  7.05456743e-13 1.49603705e-13]\n",
            " [7.47005810e-13 5.51613622e-18 8.83898362e-15 8.52173963e-13\n",
            "  9.99999404e-01 4.40793898e-19 2.12208435e-15 9.20879085e-12\n",
            "  1.22580543e-10 5.89894910e-07]\n",
            " [3.39052332e-12 9.99982119e-01 9.27419830e-09 6.56987867e-11\n",
            "  1.09082121e-05 2.70265960e-13 3.16264701e-13 6.22718926e-06\n",
            "  7.04435195e-07 1.18467480e-09]\n",
            " [4.96609213e-18 3.44584539e-12 4.86098539e-09 5.25059267e-11\n",
            "  9.99744833e-01 8.52058632e-11 3.14283469e-18 5.10680920e-09\n",
            "  1.78897419e-04 7.62788331e-05]\n",
            " [9.84418735e-24 6.25289208e-14 2.93861463e-10 2.91233595e-12\n",
            "  6.31647563e-05 7.04013847e-10 2.27808671e-21 1.13169164e-12\n",
            "  2.01999342e-07 9.99936581e-01]\n",
            " [9.00158333e-12 7.73542015e-24 1.56952062e-17 6.83467158e-15\n",
            "  8.67620591e-13 9.71509635e-01 2.84845326e-02 4.02847131e-22\n",
            "  5.73631132e-06 4.17563119e-12]]\n",
            "[7 2 1 0 4 1 4 9 5]\n"
          ],
          "name": "stdout"
        }
      ]
    },
    {
      "cell_type": "code",
      "metadata": {
        "id": "CT--y98_dr2T",
        "colab_type": "code",
        "colab": {}
      },
      "source": [
        "layer_dict = dict([(layer.name, layer) for layer in model.layers])"
      ],
      "execution_count": 0,
      "outputs": []
    },
    {
      "cell_type": "code",
      "metadata": {
        "id": "2GY4Upv4dsUR",
        "colab_type": "code",
        "outputId": "85b8da2a-9a31-4880-a01e-9af7f94f8a43",
        "colab": {
          "base_uri": "https://localhost:8080/",
          "height": 837
        }
      },
      "source": [
        "import numpy as np\n",
        "from matplotlib import pyplot as plt\n",
        "from keras import backend as K\n",
        "%matplotlib inline\n",
        "# util function to convert a tensor into a valid image\n",
        "def deprocess_image(x):\n",
        "    # normalize tensor: center on 0., ensure std is 0.1\n",
        "    x -= x.mean()\n",
        "    x /= (x.std() + 1e-5)\n",
        "    x *= 0.1\n",
        "\n",
        "    # clip to [0, 1]\n",
        "    x += 0.5\n",
        "    x = np.clip(x, 0, 1)\n",
        "\n",
        "    # convert to RGB array\n",
        "    x *= 255\n",
        "    #x = x.transpose((1, 2, 0))\n",
        "    x = np.clip(x, 0, 255).astype('uint8')\n",
        "    return x\n",
        "\n",
        "def vis_img_in_filter(img = np.array(X_train[2]).reshape((1, 28, 28, 1)).astype(np.float64), \n",
        "                      layer_name = 'conv2d_1'):\n",
        "    layer_output = layer_dict[layer_name].output\n",
        "    img_ascs = list()\n",
        "    for filter_index in range(layer_output.shape[3]):\n",
        "        # build a loss function that maximizes the activation\n",
        "        # of the nth filter of the layer considered\n",
        "        loss = K.mean(layer_output[:, :, :, filter_index])\n",
        "\n",
        "        # compute the gradient of the input picture wrt this loss\n",
        "        grads = K.gradients(loss, model.input)[0]\n",
        "\n",
        "        # normalization trick: we normalize the gradient\n",
        "        grads /= (K.sqrt(K.mean(K.square(grads))) + 1e-5)\n",
        "\n",
        "        # this function returns the loss and grads given the input picture\n",
        "        iterate = K.function([model.input], [loss, grads])\n",
        "\n",
        "        # step size for gradient ascent\n",
        "        step = 5.\n",
        "\n",
        "        img_asc = np.array(img)\n",
        "        # run gradient ascent for 20 steps\n",
        "        for i in range(20):\n",
        "            loss_value, grads_value = iterate([img_asc])\n",
        "            img_asc += grads_value * step\n",
        "\n",
        "        img_asc = img_asc[0]\n",
        "        img_ascs.append(deprocess_image(img_asc).reshape((28, 28)))\n",
        "        \n",
        "    if layer_output.shape[3] >= 35:\n",
        "        plot_x, plot_y = 6, 6\n",
        "    elif layer_output.shape[3] >= 23:\n",
        "        plot_x, plot_y = 4, 6\n",
        "    elif layer_output.shape[3] >= 11:\n",
        "        plot_x, plot_y = 2, 6\n",
        "    else:\n",
        "        plot_x, plot_y = 1, 2\n",
        "    fig, ax = plt.subplots(plot_x, plot_y, figsize = (12, 12))\n",
        "    ax[0, 0].imshow(img.reshape((28, 28)), cmap = 'gray')\n",
        "    ax[0, 0].set_title('Input image')\n",
        "    fig.suptitle('Input image and %s filters' % (layer_name,))\n",
        "    fig.tight_layout(pad = 0.3, rect = [0, 0, 0.9, 0.9])\n",
        "    for (x, y) in [(i, j) for i in range(plot_x) for j in range(plot_y)]:\n",
        "        if x == 0 and y == 0:\n",
        "            continue\n",
        "        ax[x, y].imshow(img_ascs[x * plot_y + y - 1], cmap = 'gray')\n",
        "        ax[x, y].set_title('filter %d' % (x * plot_y + y - 1))\n",
        "\n",
        "vis_img_in_filter()"
      ],
      "execution_count": 0,
      "outputs": [
        {
          "output_type": "display_data",
          "data": {
            "image/png": "[encoded data removed]",
            "text/plain": [
              "<Figure size 864x864 with 24 Axes>"
            ]
          },
          "metadata": {
            "tags": []
          }
        }
      ]
    },
    {
      "cell_type": "code",
      "metadata": {
        "id": "9tvptcn8dxvp",
        "colab_type": "code",
        "colab": {}
      },
      "source": [
        ""
      ],
      "execution_count": 0,
      "outputs": []
    },
    {
      "cell_type": "markdown",
      "metadata": {
        "id": "IIhK4Z9BL-bM",
        "colab_type": "text"
      },
      "source": [
        "## In the above architecture 1 we had 68k parameters and we received an accuracy of 98.04%"
      ]
    },
    {
      "cell_type": "markdown",
      "metadata": {
        "id": "bPIC_JhALczt",
        "colab_type": "text"
      },
      "source": [
        "#Now  let us try some other architecture (Architecture - 2 )"
      ]
    },
    {
      "cell_type": "code",
      "metadata": {
        "id": "gBooZWJnLjDw",
        "colab_type": "code",
        "outputId": "108018ab-d91a-4c72-9fd2-1b7b5779e73d",
        "colab": {
          "base_uri": "https://localhost:8080/",
          "height": 275
        }
      },
      "source": [
        "from keras.layers import Activation\n",
        "model = Sequential()\n",
        "\n",
        " \n",
        "model.add(Convolution2D(32, 3, 3, activation='relu', input_shape=(28,28,1))) # 26\n",
        "\n",
        "model.add(Convolution2D(64, 3, 3, activation='relu')) # 24\n",
        "model.add(Convolution2D(128, 3, 3, activation='relu')) # 22\n",
        "\n",
        "model.add(MaxPooling2D(pool_size=(2, 2))) # 11\n",
        "model.add(Convolution2D(32, 1, 1, activation='relu')) # 11\n",
        "\n",
        "model.add(Convolution2D(64, 3, 3, activation='relu')) # 9\n",
        "model.add(Convolution2D(128, 3, 3, activation='relu')) # 7\n",
        "\n",
        "model.add(Convolution2D(10, 1, activation='relu')) #7\n",
        "model.add(Convolution2D(10, 7))\n",
        "model.add(Flatten())\n",
        "model.add(Activation('softmax'))"
      ],
      "execution_count": 0,
      "outputs": [
        {
          "output_type": "stream",
          "text": [
            "WARNING:tensorflow:From /usr/local/lib/python3.6/dist-packages/keras/backend/tensorflow_backend.py:4267: The name tf.nn.max_pool is deprecated. Please use tf.nn.max_pool2d instead.\n",
            "\n"
          ],
          "name": "stdout"
        },
        {
          "output_type": "stream",
          "text": [
            "/usr/local/lib/python3.6/dist-packages/ipykernel_launcher.py:5: UserWarning: Update your `Conv2D` call to the Keras 2 API: `Conv2D(32, (3, 3), activation=\"relu\", input_shape=(28, 28, 1...)`\n",
            "  \"\"\"\n",
            "/usr/local/lib/python3.6/dist-packages/ipykernel_launcher.py:7: UserWarning: Update your `Conv2D` call to the Keras 2 API: `Conv2D(64, (3, 3), activation=\"relu\")`\n",
            "  import sys\n",
            "/usr/local/lib/python3.6/dist-packages/ipykernel_launcher.py:8: UserWarning: Update your `Conv2D` call to the Keras 2 API: `Conv2D(128, (3, 3), activation=\"relu\")`\n",
            "  \n",
            "/usr/local/lib/python3.6/dist-packages/ipykernel_launcher.py:11: UserWarning: Update your `Conv2D` call to the Keras 2 API: `Conv2D(32, (1, 1), activation=\"relu\")`\n",
            "  # This is added back by InteractiveShellApp.init_path()\n",
            "/usr/local/lib/python3.6/dist-packages/ipykernel_launcher.py:13: UserWarning: Update your `Conv2D` call to the Keras 2 API: `Conv2D(64, (3, 3), activation=\"relu\")`\n",
            "  del sys.path[0]\n",
            "/usr/local/lib/python3.6/dist-packages/ipykernel_launcher.py:14: UserWarning: Update your `Conv2D` call to the Keras 2 API: `Conv2D(128, (3, 3), activation=\"relu\")`\n",
            "  \n"
          ],
          "name": "stderr"
        }
      ]
    },
    {
      "cell_type": "code",
      "metadata": {
        "id": "nWKHiqvNMpFa",
        "colab_type": "code",
        "outputId": "5251d526-1916-46ac-d9fc-4ab2f51f34ea",
        "colab": {
          "base_uri": "https://localhost:8080/",
          "height": 527
        }
      },
      "source": [
        "model.summary()"
      ],
      "execution_count": 0,
      "outputs": [
        {
          "output_type": "stream",
          "text": [
            "Model: \"sequential_2\"\n",
            "_________________________________________________________________\n",
            "Layer (type)                 Output Shape              Param #   \n",
            "=================================================================\n",
            "conv2d_4 (Conv2D)            (None, 26, 26, 32)        320       \n",
            "_________________________________________________________________\n",
            "conv2d_5 (Conv2D)            (None, 24, 24, 64)        18496     \n",
            "_________________________________________________________________\n",
            "conv2d_6 (Conv2D)            (None, 22, 22, 128)       73856     \n",
            "_________________________________________________________________\n",
            "max_pooling2d_1 (MaxPooling2 (None, 11, 11, 128)       0         \n",
            "_________________________________________________________________\n",
            "conv2d_7 (Conv2D)            (None, 11, 11, 32)        4128      \n",
            "_________________________________________________________________\n",
            "conv2d_8 (Conv2D)            (None, 9, 9, 64)          18496     \n",
            "_________________________________________________________________\n",
            "conv2d_9 (Conv2D)            (None, 7, 7, 128)         73856     \n",
            "_________________________________________________________________\n",
            "conv2d_10 (Conv2D)           (None, 7, 7, 10)          1290      \n",
            "_________________________________________________________________\n",
            "conv2d_11 (Conv2D)           (None, 1, 1, 10)          4910      \n",
            "_________________________________________________________________\n",
            "flatten_2 (Flatten)          (None, 10)                0         \n",
            "_________________________________________________________________\n",
            "activation_2 (Activation)    (None, 10)                0         \n",
            "=================================================================\n",
            "Total params: 195,352\n",
            "Trainable params: 195,352\n",
            "Non-trainable params: 0\n",
            "_________________________________________________________________\n"
          ],
          "name": "stdout"
        }
      ]
    },
    {
      "cell_type": "code",
      "metadata": {
        "id": "ZRSUtg85MpCj",
        "colab_type": "code",
        "colab": {}
      },
      "source": [
        "model.compile(loss='categorical_crossentropy',\n",
        "             optimizer='adam',\n",
        "             metrics=['accuracy'])"
      ],
      "execution_count": 0,
      "outputs": []
    },
    {
      "cell_type": "code",
      "metadata": {
        "id": "Y3ILH_eeMo_b",
        "colab_type": "code",
        "outputId": "b011dd37-de24-48f0-92b4-1ec19ae55e84",
        "colab": {
          "base_uri": "https://localhost:8080/",
          "height": 428
        }
      },
      "source": [
        "model.fit(X_train, Y_train, batch_size=32, nb_epoch=10, verbose=1)"
      ],
      "execution_count": 0,
      "outputs": [
        {
          "output_type": "stream",
          "text": [
            "/usr/local/lib/python3.6/dist-packages/ipykernel_launcher.py:1: UserWarning: The `nb_epoch` argument in `fit` has been renamed `epochs`.\n",
            "  \"\"\"Entry point for launching an IPython kernel.\n"
          ],
          "name": "stderr"
        },
        {
          "output_type": "stream",
          "text": [
            "Epoch 1/10\n",
            "60000/60000 [==============================] - 18s 301us/step - loss: 0.1512 - acc: 0.9537\n",
            "Epoch 2/10\n",
            "60000/60000 [==============================] - 17s 283us/step - loss: 0.0532 - acc: 0.9835\n",
            "Epoch 3/10\n",
            "60000/60000 [==============================] - 17s 284us/step - loss: 0.0388 - acc: 0.9881\n",
            "Epoch 4/10\n",
            "60000/60000 [==============================] - 17s 289us/step - loss: 0.0330 - acc: 0.9895\n",
            "Epoch 5/10\n",
            "60000/60000 [==============================] - 17s 282us/step - loss: 0.0263 - acc: 0.9915\n",
            "Epoch 6/10\n",
            "60000/60000 [==============================] - 17s 285us/step - loss: 0.0219 - acc: 0.9931\n",
            "Epoch 7/10\n",
            "60000/60000 [==============================] - 17s 286us/step - loss: 0.0179 - acc: 0.9944\n",
            "Epoch 8/10\n",
            "60000/60000 [==============================] - 17s 283us/step - loss: 0.0165 - acc: 0.9950\n",
            "Epoch 9/10\n",
            "60000/60000 [==============================] - 17s 284us/step - loss: 0.0144 - acc: 0.9954\n",
            "Epoch 10/10\n",
            "60000/60000 [==============================] - 17s 281us/step - loss: 0.0132 - acc: 0.9954\n"
          ],
          "name": "stdout"
        },
        {
          "output_type": "execute_result",
          "data": {
            "text/plain": [
              "<keras.callbacks.History at 0x7fc1b15a4080>"
            ]
          },
          "metadata": {
            "tags": []
          },
          "execution_count": 23
        }
      ]
    },
    {
      "cell_type": "code",
      "metadata": {
        "id": "NgkO4VfiMo8T",
        "colab_type": "code",
        "outputId": "d87366c9-efed-4d75-f15a-95c6300e4752",
        "colab": {
          "base_uri": "https://localhost:8080/",
          "height": 34
        }
      },
      "source": [
        "score = model.evaluate(X_test, Y_test, verbose=0)\n",
        "print(score)"
      ],
      "execution_count": 0,
      "outputs": [
        {
          "output_type": "stream",
          "text": [
            "[0.036508636198815475, 0.9904]\n"
          ],
          "name": "stdout"
        }
      ]
    },
    {
      "cell_type": "code",
      "metadata": {
        "id": "zrlQOCqvMo5b",
        "colab_type": "code",
        "colab": {}
      },
      "source": [
        "y_pred = model.predict(X_test)"
      ],
      "execution_count": 0,
      "outputs": []
    },
    {
      "cell_type": "code",
      "metadata": {
        "id": "LjIU29UbMo2r",
        "colab_type": "code",
        "outputId": "6e91f666-8d00-4f8d-9e1f-f2f546871cdd",
        "colab": {
          "base_uri": "https://localhost:8080/",
          "height": 493
        }
      },
      "source": [
        "print(y_pred[:9])\n",
        "print(y_test[:9])"
      ],
      "execution_count": 0,
      "outputs": [
        {
          "output_type": "stream",
          "text": [
            "[[8.47334536e-10 2.28307228e-14 2.51166377e-09 1.75490750e-11\n",
            "  4.33381727e-17 5.68766478e-16 3.30709062e-28 1.00000000e+00\n",
            "  9.45749047e-15 4.99915498e-10]\n",
            " [7.67750663e-13 3.87254707e-11 1.00000000e+00 2.62143049e-19\n",
            "  1.62355735e-14 3.71870257e-20 2.07247039e-10 4.25926418e-23\n",
            "  9.42831272e-15 8.20125263e-21]\n",
            " [2.32509839e-13 9.99999881e-01 1.31440192e-08 9.97809826e-14\n",
            "  1.21578609e-07 1.49807877e-09 7.43601968e-12 9.03234820e-09\n",
            "  2.42870377e-11 1.75648454e-11]\n",
            " [1.00000000e+00 2.34447776e-14 2.50955290e-12 8.19769901e-18\n",
            "  3.22835956e-15 5.27742563e-12 8.35278846e-10 5.59036981e-17\n",
            "  1.24279515e-12 5.52661389e-12]\n",
            " [3.46117170e-16 2.11530588e-14 7.58689437e-19 1.28877516e-23\n",
            "  1.00000000e+00 1.31377902e-14 3.96996970e-13 4.07115136e-17\n",
            "  7.09061282e-13 4.35674656e-11]\n",
            " [5.90629298e-14 9.99999762e-01 1.38098013e-08 6.16176320e-15\n",
            "  8.82971705e-08 3.49394260e-13 4.31709959e-14 9.95824010e-08\n",
            "  1.37522146e-11 1.19287080e-11]\n",
            " [3.30491287e-18 6.97788724e-13 1.24286965e-14 1.08670274e-24\n",
            "  1.00000000e+00 4.23603142e-14 1.50897575e-21 3.70347112e-12\n",
            "  6.93979541e-09 4.38700777e-11]\n",
            " [4.36244401e-17 1.64346631e-13 6.81607571e-16 1.69500007e-15\n",
            "  4.69680913e-07 2.60707948e-11 1.05715618e-17 1.58633780e-13\n",
            "  4.72032027e-13 9.99999523e-01]\n",
            " [1.22508732e-08 2.02379973e-19 6.04782847e-12 1.16834819e-13\n",
            "  1.82963141e-11 9.47680593e-01 5.23186214e-02 1.02377901e-18\n",
            "  7.96897496e-07 2.19395974e-10]]\n",
            "[7 2 1 0 4 1 4 9 5]\n"
          ],
          "name": "stdout"
        }
      ]
    },
    {
      "cell_type": "code",
      "metadata": {
        "id": "HFsYfkHdMozs",
        "colab_type": "code",
        "colab": {}
      },
      "source": [
        "layer_dict = dict([(layer.name, layer) for layer in model.layers])"
      ],
      "execution_count": 0,
      "outputs": []
    },
    {
      "cell_type": "code",
      "metadata": {
        "id": "-ZeUouVZMow8",
        "colab_type": "code",
        "outputId": "3b0bbe75-52bc-4212-8e1f-172e5706958d",
        "colab": {
          "base_uri": "https://localhost:8080/",
          "height": 837
        }
      },
      "source": [
        "import numpy as np\n",
        "from matplotlib import pyplot as plt\n",
        "from keras import backend as K\n",
        "%matplotlib inline\n",
        "# util function to convert a tensor into a valid image\n",
        "def deprocess_image(x):\n",
        "    # normalize tensor: center on 0., ensure std is 0.1\n",
        "    x -= x.mean()\n",
        "    x /= (x.std() + 1e-5)\n",
        "    x *= 0.1\n",
        "\n",
        "    # clip to [0, 1]\n",
        "    x += 0.5\n",
        "    x = np.clip(x, 0, 1)\n",
        "\n",
        "    # convert to RGB array\n",
        "    x *= 255\n",
        "    #x = x.transpose((1, 2, 0))\n",
        "    x = np.clip(x, 0, 255).astype('uint8')\n",
        "    return x\n",
        "\n",
        "def vis_img_in_filter(img = np.array(X_train[2]).reshape((1, 28, 28, 1)).astype(np.float64), \n",
        "                      layer_name = 'conv2d_4'):\n",
        "    layer_output = layer_dict[layer_name].output\n",
        "    img_ascs = list()\n",
        "    for filter_index in range(layer_output.shape[3]):\n",
        "        # build a loss function that maximizes the activation\n",
        "        # of the nth filter of the layer considered\n",
        "        loss = K.mean(layer_output[:, :, :, filter_index])\n",
        "\n",
        "        # compute the gradient of the input picture wrt this loss\n",
        "        grads = K.gradients(loss, model.input)[0]\n",
        "\n",
        "        # normalization trick: we normalize the gradient\n",
        "        grads /= (K.sqrt(K.mean(K.square(grads))) + 1e-5)\n",
        "\n",
        "        # this function returns the loss and grads given the input picture\n",
        "        iterate = K.function([model.input], [loss, grads])\n",
        "\n",
        "        # step size for gradient ascent\n",
        "        step = 5.\n",
        "\n",
        "        img_asc = np.array(img)\n",
        "        # run gradient ascent for 20 steps\n",
        "        for i in range(20):\n",
        "            loss_value, grads_value = iterate([img_asc])\n",
        "            img_asc += grads_value * step\n",
        "\n",
        "        img_asc = img_asc[0]\n",
        "        img_ascs.append(deprocess_image(img_asc).reshape((28, 28)))\n",
        "        \n",
        "    if layer_output.shape[3] >= 35:\n",
        "        plot_x, plot_y = 6, 6\n",
        "    elif layer_output.shape[3] >= 23:\n",
        "        plot_x, plot_y = 4, 6\n",
        "    elif layer_output.shape[3] >= 11:\n",
        "        plot_x, plot_y = 2, 6\n",
        "    else:\n",
        "        plot_x, plot_y = 1, 2\n",
        "    fig, ax = plt.subplots(plot_x, plot_y, figsize = (12, 12))\n",
        "    ax[0, 0].imshow(img.reshape((28, 28)), cmap = 'gray')\n",
        "    ax[0, 0].set_title('Input image')\n",
        "    fig.suptitle('Input image and %s filters' % (layer_name,))\n",
        "    fig.tight_layout(pad = 0.3, rect = [0, 0, 0.9, 0.9])\n",
        "    for (x, y) in [(i, j) for i in range(plot_x) for j in range(plot_y)]:\n",
        "        if x == 0 and y == 0:\n",
        "            continue\n",
        "        ax[x, y].imshow(img_ascs[x * plot_y + y - 1], cmap = 'gray')\n",
        "        ax[x, y].set_title('filter %d' % (x * plot_y + y - 1))\n",
        "\n",
        "vis_img_in_filter()"
      ],
      "execution_count": 0,
      "outputs": [
        {
          "output_type": "display_data",
          "data": {
            "image/png": "[encoded data removed]",
            "text/plain": [
              "<Figure size 864x864 with 24 Axes>"
            ]
          },
          "metadata": {
            "tags": []
          }
        }
      ]
    },
    {
      "cell_type": "markdown",
      "metadata": {
        "id": "A1ysdQOiOE81",
        "colab_type": "text"
      },
      "source": [
        "# In the above architecture 2 we had 195,352 parameters and we received an accuracy of 99.04%"
      ]
    },
    {
      "cell_type": "markdown",
      "metadata": {
        "id": "eSYOx9UtORH6",
        "colab_type": "text"
      },
      "source": [
        "## Let us try another architecture (Architecture - 3)"
      ]
    },
    {
      "cell_type": "code",
      "metadata": {
        "id": "L_kHxTHwMouC",
        "colab_type": "code",
        "outputId": "e543db98-16b6-42b9-e178-5ea18613945b",
        "colab": {
          "base_uri": "https://localhost:8080/",
          "height": 241
        }
      },
      "source": [
        "from keras.layers import Activation\n",
        "model = Sequential()\n",
        "\n",
        " \n",
        "model.add(Convolution2D(10, 3, 3, activation='relu', input_shape=(28,28,1))) # 26\n",
        "\n",
        "model.add(Convolution2D(10, 3, 3, activation='relu')) # 24\n",
        "model.add(Convolution2D(20, 3, 3, activation='relu')) # 22\n",
        "\n",
        "model.add(MaxPooling2D(pool_size=(2, 2))) # 11\n",
        "model.add(Convolution2D(10, 1, 1, activation='relu')) # 11\n",
        "\n",
        "model.add(Convolution2D(10, 3, 3, activation='relu')) # 9\n",
        "model.add(Convolution2D(20, 3, 3, activation='relu')) # 7\n",
        "\n",
        "model.add(Convolution2D(10, 1, activation='relu')) #7\n",
        "model.add(Convolution2D(10, 7))\n",
        "model.add(Flatten())\n",
        "model.add(Activation('softmax'))"
      ],
      "execution_count": 0,
      "outputs": [
        {
          "output_type": "stream",
          "text": [
            "/usr/local/lib/python3.6/dist-packages/ipykernel_launcher.py:5: UserWarning: Update your `Conv2D` call to the Keras 2 API: `Conv2D(10, (3, 3), activation=\"relu\", input_shape=(28, 28, 1...)`\n",
            "  \"\"\"\n",
            "/usr/local/lib/python3.6/dist-packages/ipykernel_launcher.py:7: UserWarning: Update your `Conv2D` call to the Keras 2 API: `Conv2D(10, (3, 3), activation=\"relu\")`\n",
            "  import sys\n",
            "/usr/local/lib/python3.6/dist-packages/ipykernel_launcher.py:8: UserWarning: Update your `Conv2D` call to the Keras 2 API: `Conv2D(20, (3, 3), activation=\"relu\")`\n",
            "  \n",
            "/usr/local/lib/python3.6/dist-packages/ipykernel_launcher.py:11: UserWarning: Update your `Conv2D` call to the Keras 2 API: `Conv2D(10, (1, 1), activation=\"relu\")`\n",
            "  # This is added back by InteractiveShellApp.init_path()\n",
            "/usr/local/lib/python3.6/dist-packages/ipykernel_launcher.py:13: UserWarning: Update your `Conv2D` call to the Keras 2 API: `Conv2D(10, (3, 3), activation=\"relu\")`\n",
            "  del sys.path[0]\n",
            "/usr/local/lib/python3.6/dist-packages/ipykernel_launcher.py:14: UserWarning: Update your `Conv2D` call to the Keras 2 API: `Conv2D(20, (3, 3), activation=\"relu\")`\n",
            "  \n"
          ],
          "name": "stderr"
        }
      ]
    },
    {
      "cell_type": "markdown",
      "metadata": {
        "id": "_2YHHQlnOEHU",
        "colab_type": "text"
      },
      "source": [
        ""
      ]
    },
    {
      "cell_type": "code",
      "metadata": {
        "id": "hYwApBrzMorb",
        "colab_type": "code",
        "outputId": "6118b5e2-c0b7-49b1-e60e-43d40325dd5a",
        "colab": {
          "base_uri": "https://localhost:8080/",
          "height": 527
        }
      },
      "source": [
        "model.summary()"
      ],
      "execution_count": 0,
      "outputs": [
        {
          "output_type": "stream",
          "text": [
            "Model: \"sequential_3\"\n",
            "_________________________________________________________________\n",
            "Layer (type)                 Output Shape              Param #   \n",
            "=================================================================\n",
            "conv2d_12 (Conv2D)           (None, 26, 26, 10)        100       \n",
            "_________________________________________________________________\n",
            "conv2d_13 (Conv2D)           (None, 24, 24, 10)        910       \n",
            "_________________________________________________________________\n",
            "conv2d_14 (Conv2D)           (None, 22, 22, 20)        1820      \n",
            "_________________________________________________________________\n",
            "max_pooling2d_2 (MaxPooling2 (None, 11, 11, 20)        0         \n",
            "_________________________________________________________________\n",
            "conv2d_15 (Conv2D)           (None, 11, 11, 10)        210       \n",
            "_________________________________________________________________\n",
            "conv2d_16 (Conv2D)           (None, 9, 9, 10)          910       \n",
            "_________________________________________________________________\n",
            "conv2d_17 (Conv2D)           (None, 7, 7, 20)          1820      \n",
            "_________________________________________________________________\n",
            "conv2d_18 (Conv2D)           (None, 7, 7, 10)          210       \n",
            "_________________________________________________________________\n",
            "conv2d_19 (Conv2D)           (None, 1, 1, 10)          4910      \n",
            "_________________________________________________________________\n",
            "flatten_3 (Flatten)          (None, 10)                0         \n",
            "_________________________________________________________________\n",
            "activation_3 (Activation)    (None, 10)                0         \n",
            "=================================================================\n",
            "Total params: 10,890\n",
            "Trainable params: 10,890\n",
            "Non-trainable params: 0\n",
            "_________________________________________________________________\n"
          ],
          "name": "stdout"
        }
      ]
    },
    {
      "cell_type": "code",
      "metadata": {
        "id": "MLZ_cM7gMooj",
        "colab_type": "code",
        "colab": {}
      },
      "source": [
        "model.compile(loss='categorical_crossentropy',\n",
        "             optimizer='adam',\n",
        "             metrics=['accuracy'])"
      ],
      "execution_count": 0,
      "outputs": []
    },
    {
      "cell_type": "code",
      "metadata": {
        "id": "iVz8GCrBMolr",
        "colab_type": "code",
        "outputId": "78fcf3fd-19a5-4892-9bfc-4eb21319fccc",
        "colab": {
          "base_uri": "https://localhost:8080/",
          "height": 428
        }
      },
      "source": [
        "model.fit(X_train, Y_train, batch_size=32, nb_epoch=10, verbose=1)"
      ],
      "execution_count": 0,
      "outputs": [
        {
          "output_type": "stream",
          "text": [
            "/usr/local/lib/python3.6/dist-packages/ipykernel_launcher.py:1: UserWarning: The `nb_epoch` argument in `fit` has been renamed `epochs`.\n",
            "  \"\"\"Entry point for launching an IPython kernel.\n"
          ],
          "name": "stderr"
        },
        {
          "output_type": "stream",
          "text": [
            "Epoch 1/10\n",
            "60000/60000 [==============================] - 17s 286us/step - loss: 0.2017 - acc: 0.9386\n",
            "Epoch 2/10\n",
            "60000/60000 [==============================] - 17s 275us/step - loss: 0.0755 - acc: 0.9772\n",
            "Epoch 3/10\n",
            "60000/60000 [==============================] - 16s 272us/step - loss: 0.0561 - acc: 0.9831\n",
            "Epoch 4/10\n",
            "60000/60000 [==============================] - 16s 271us/step - loss: 0.0475 - acc: 0.9853\n",
            "Epoch 5/10\n",
            "60000/60000 [==============================] - 16s 275us/step - loss: 0.0406 - acc: 0.9876\n",
            "Epoch 6/10\n",
            "60000/60000 [==============================] - 17s 277us/step - loss: 0.0360 - acc: 0.9887\n",
            "Epoch 7/10\n",
            "60000/60000 [==============================] - 17s 286us/step - loss: 0.0318 - acc: 0.9904\n",
            "Epoch 8/10\n",
            "60000/60000 [==============================] - 17s 285us/step - loss: 0.0295 - acc: 0.9907\n",
            "Epoch 9/10\n",
            "60000/60000 [==============================] - 16s 272us/step - loss: 0.0259 - acc: 0.9915\n",
            "Epoch 10/10\n",
            "60000/60000 [==============================] - 17s 283us/step - loss: 0.0245 - acc: 0.9922\n"
          ],
          "name": "stdout"
        },
        {
          "output_type": "execute_result",
          "data": {
            "text/plain": [
              "<keras.callbacks.History at 0x7fc1b0277240>"
            ]
          },
          "metadata": {
            "tags": []
          },
          "execution_count": 32
        }
      ]
    },
    {
      "cell_type": "code",
      "metadata": {
        "id": "souYMlMsMoiy",
        "colab_type": "code",
        "outputId": "411edf67-afcf-4624-c888-8d745821e219",
        "colab": {
          "base_uri": "https://localhost:8080/",
          "height": 34
        }
      },
      "source": [
        "score = model.evaluate(X_test, Y_test, verbose=0)\n",
        "print(score)"
      ],
      "execution_count": 0,
      "outputs": [
        {
          "output_type": "stream",
          "text": [
            "[0.036666996561639825, 0.9894]\n"
          ],
          "name": "stdout"
        }
      ]
    },
    {
      "cell_type": "code",
      "metadata": {
        "id": "AoDKG-vrMof7",
        "colab_type": "code",
        "colab": {}
      },
      "source": [
        "y_pred = model.predict(X_test)"
      ],
      "execution_count": 0,
      "outputs": []
    },
    {
      "cell_type": "code",
      "metadata": {
        "id": "2d01ad5bMoTb",
        "colab_type": "code",
        "outputId": "cf0ca63d-89eb-490b-f2ab-1086b9dec11a",
        "colab": {
          "base_uri": "https://localhost:8080/",
          "height": 493
        }
      },
      "source": [
        "print(y_pred[:9])\n",
        "print(y_test[:9])"
      ],
      "execution_count": 0,
      "outputs": [
        {
          "output_type": "stream",
          "text": [
            "[[2.13286908e-13 3.56766061e-10 9.45835268e-08 1.26002135e-07\n",
            "  2.65612662e-12 1.12502993e-10 4.17277480e-22 9.99999762e-01\n",
            "  1.72883804e-10 1.12958736e-08]\n",
            " [1.42586591e-08 2.60259498e-07 9.99999285e-01 1.12014011e-12\n",
            "  9.59093582e-10 5.70650586e-15 4.69764558e-07 1.37228228e-13\n",
            "  2.18743593e-10 2.89192612e-16]\n",
            " [6.04374745e-11 9.99869943e-01 1.34106892e-06 1.40423351e-09\n",
            "  1.02792146e-04 1.67642811e-05 9.61378746e-08 2.73158048e-06\n",
            "  5.23343988e-06 1.11986287e-06]\n",
            " [9.99963403e-01 4.33539313e-14 8.72872761e-08 7.27383487e-10\n",
            "  1.65135443e-08 2.48735773e-06 3.21839689e-05 1.24039164e-11\n",
            "  6.76218008e-07 1.16729177e-06]\n",
            " [2.36767862e-11 4.97399702e-14 9.28615691e-12 6.04552519e-11\n",
            "  1.00000000e+00 2.38523123e-13 6.06471730e-12 2.92417110e-12\n",
            "  5.74540471e-10 1.71784507e-08]\n",
            " [3.54544137e-11 9.99982238e-01 5.43435021e-07 2.62706190e-10\n",
            "  1.39493040e-05 2.93722877e-07 3.79250906e-08 2.12421810e-06\n",
            "  4.22433686e-07 3.41948493e-07]\n",
            " [7.30432679e-15 1.43611096e-08 3.97167802e-12 9.03738889e-12\n",
            "  9.99998569e-01 5.12475351e-09 2.43923155e-17 3.02614322e-11\n",
            "  9.82841925e-07 4.06093676e-07]\n",
            " [1.56358364e-11 4.64677230e-09 1.59646390e-06 1.52183475e-08\n",
            "  4.50862390e-05 1.83744589e-07 1.88822916e-12 4.17684137e-10\n",
            "  9.12616827e-08 9.99953032e-01]\n",
            " [9.19794588e-11 6.53499313e-16 2.50038109e-13 7.78478153e-08\n",
            "  2.17812368e-09 9.92241859e-01 7.22014764e-03 7.33468530e-14\n",
            "  5.36954845e-04 8.40839050e-07]]\n",
            "[7 2 1 0 4 1 4 9 5]\n"
          ],
          "name": "stdout"
        }
      ]
    },
    {
      "cell_type": "markdown",
      "metadata": {
        "id": "_Ht3Q2V_Rl_y",
        "colab_type": "text"
      },
      "source": [
        "# So in above architecture we received an accuracy of 98.94% with 10890 number of parameters."
      ]
    },
    {
      "cell_type": "markdown",
      "metadata": {
        "id": "t7cTJWK_R5k5",
        "colab_type": "text"
      },
      "source": [
        "## Architecture 4 "
      ]
    },
    {
      "cell_type": "code",
      "metadata": {
        "id": "y4Aqc-5SRyO2",
        "colab_type": "code",
        "outputId": "a7f34168-1197-4b36-face-82daa6fd610b",
        "colab": {
          "base_uri": "https://localhost:8080/",
          "height": 275
        }
      },
      "source": [
        "from keras.layers import Activation\n",
        "from keras.layers import Dense, Dropout, Activation, Flatten, Add, BatchNormalization\n",
        "model = Sequential()\n",
        "\n",
        " \n",
        "model.add(Convolution2D(10, 3, 3, activation='relu', input_shape=(28,28,1))) # 26\n",
        "model.add(BatchNormalization())\n",
        "\n",
        "model.add(Convolution2D(10, 3, 3, activation='relu')) # 24\n",
        "model.add(BatchNormalization())\n",
        "model.add(Convolution2D(20, 3, 3, activation='relu')) # 22\n",
        "model.add(BatchNormalization())\n",
        "\n",
        "model.add(MaxPooling2D(pool_size=(2, 2))) # 11\n",
        "model.add(Convolution2D(10, 1, 1, activation='relu')) # 11\n",
        "model.add(BatchNormalization())\n",
        "\n",
        "model.add(Convolution2D(10, 3, 3, activation='relu')) # 9\n",
        "model.add(BatchNormalization())\n",
        "model.add(Convolution2D(20, 3, 3, activation='relu')) # 7\n",
        "model.add(BatchNormalization())\n",
        "\n",
        "model.add(Convolution2D(10, 1, activation='relu')) #7\n",
        "model.add(BatchNormalization())\n",
        "model.add(Convolution2D(10, 7))\n",
        "model.add(Flatten())\n",
        "model.add(Activation('softmax'))"
      ],
      "execution_count": 0,
      "outputs": [
        {
          "output_type": "stream",
          "text": [
            "/usr/local/lib/python3.6/dist-packages/ipykernel_launcher.py:6: UserWarning: Update your `Conv2D` call to the Keras 2 API: `Conv2D(10, (3, 3), activation=\"relu\", input_shape=(28, 28, 1...)`\n",
            "  \n"
          ],
          "name": "stderr"
        },
        {
          "output_type": "stream",
          "text": [
            "WARNING:tensorflow:From /usr/local/lib/python3.6/dist-packages/keras/backend/tensorflow_backend.py:2041: The name tf.nn.fused_batch_norm is deprecated. Please use tf.compat.v1.nn.fused_batch_norm instead.\n",
            "\n",
            "WARNING:tensorflow:From /usr/local/lib/python3.6/dist-packages/keras/backend/tensorflow_backend.py:148: The name tf.placeholder_with_default is deprecated. Please use tf.compat.v1.placeholder_with_default instead.\n",
            "\n"
          ],
          "name": "stdout"
        },
        {
          "output_type": "stream",
          "text": [
            "/usr/local/lib/python3.6/dist-packages/ipykernel_launcher.py:9: UserWarning: Update your `Conv2D` call to the Keras 2 API: `Conv2D(10, (3, 3), activation=\"relu\")`\n",
            "  if __name__ == '__main__':\n",
            "/usr/local/lib/python3.6/dist-packages/ipykernel_launcher.py:11: UserWarning: Update your `Conv2D` call to the Keras 2 API: `Conv2D(20, (3, 3), activation=\"relu\")`\n",
            "  # This is added back by InteractiveShellApp.init_path()\n",
            "/usr/local/lib/python3.6/dist-packages/ipykernel_launcher.py:15: UserWarning: Update your `Conv2D` call to the Keras 2 API: `Conv2D(10, (1, 1), activation=\"relu\")`\n",
            "  from ipykernel import kernelapp as app\n",
            "/usr/local/lib/python3.6/dist-packages/ipykernel_launcher.py:18: UserWarning: Update your `Conv2D` call to the Keras 2 API: `Conv2D(10, (3, 3), activation=\"relu\")`\n",
            "/usr/local/lib/python3.6/dist-packages/ipykernel_launcher.py:20: UserWarning: Update your `Conv2D` call to the Keras 2 API: `Conv2D(20, (3, 3), activation=\"relu\")`\n"
          ],
          "name": "stderr"
        }
      ]
    },
    {
      "cell_type": "code",
      "metadata": {
        "id": "N1Ao8cRvSBLp",
        "colab_type": "code",
        "outputId": "a941dafd-de7e-4c36-8181-074ee047534e",
        "colab": {
          "base_uri": "https://localhost:8080/",
          "height": 765
        }
      },
      "source": [
        "model.summary()"
      ],
      "execution_count": 0,
      "outputs": [
        {
          "output_type": "stream",
          "text": [
            "Model: \"sequential_5\"\n",
            "_________________________________________________________________\n",
            "Layer (type)                 Output Shape              Param #   \n",
            "=================================================================\n",
            "conv2d_21 (Conv2D)           (None, 26, 26, 10)        100       \n",
            "_________________________________________________________________\n",
            "batch_normalization_1 (Batch (None, 26, 26, 10)        40        \n",
            "_________________________________________________________________\n",
            "conv2d_22 (Conv2D)           (None, 24, 24, 10)        910       \n",
            "_________________________________________________________________\n",
            "batch_normalization_2 (Batch (None, 24, 24, 10)        40        \n",
            "_________________________________________________________________\n",
            "conv2d_23 (Conv2D)           (None, 22, 22, 20)        1820      \n",
            "_________________________________________________________________\n",
            "batch_normalization_3 (Batch (None, 22, 22, 20)        80        \n",
            "_________________________________________________________________\n",
            "max_pooling2d_3 (MaxPooling2 (None, 11, 11, 20)        0         \n",
            "_________________________________________________________________\n",
            "conv2d_24 (Conv2D)           (None, 11, 11, 10)        210       \n",
            "_________________________________________________________________\n",
            "batch_normalization_4 (Batch (None, 11, 11, 10)        40        \n",
            "_________________________________________________________________\n",
            "conv2d_25 (Conv2D)           (None, 9, 9, 10)          910       \n",
            "_________________________________________________________________\n",
            "batch_normalization_5 (Batch (None, 9, 9, 10)          40        \n",
            "_________________________________________________________________\n",
            "conv2d_26 (Conv2D)           (None, 7, 7, 20)          1820      \n",
            "_________________________________________________________________\n",
            "batch_normalization_6 (Batch (None, 7, 7, 20)          80        \n",
            "_________________________________________________________________\n",
            "conv2d_27 (Conv2D)           (None, 7, 7, 10)          210       \n",
            "_________________________________________________________________\n",
            "batch_normalization_7 (Batch (None, 7, 7, 10)          40        \n",
            "_________________________________________________________________\n",
            "conv2d_28 (Conv2D)           (None, 1, 1, 10)          4910      \n",
            "_________________________________________________________________\n",
            "flatten_4 (Flatten)          (None, 10)                0         \n",
            "_________________________________________________________________\n",
            "activation_4 (Activation)    (None, 10)                0         \n",
            "=================================================================\n",
            "Total params: 11,250\n",
            "Trainable params: 11,070\n",
            "Non-trainable params: 180\n",
            "_________________________________________________________________\n"
          ],
          "name": "stdout"
        }
      ]
    },
    {
      "cell_type": "code",
      "metadata": {
        "id": "TU-oLhMNSXFE",
        "colab_type": "code",
        "colab": {}
      },
      "source": [
        "model.compile(loss='categorical_crossentropy',\n",
        "             optimizer='adam',\n",
        "             metrics=['accuracy'])"
      ],
      "execution_count": 0,
      "outputs": []
    },
    {
      "cell_type": "code",
      "metadata": {
        "id": "BFd-2nX2SpWJ",
        "colab_type": "code",
        "outputId": "4944f63f-1ca5-40d4-8d9c-40409d76defe",
        "colab": {
          "base_uri": "https://localhost:8080/",
          "height": 428
        }
      },
      "source": [
        "model.fit(X_train, Y_train, batch_size=32, nb_epoch=10, verbose=1)"
      ],
      "execution_count": 0,
      "outputs": [
        {
          "output_type": "stream",
          "text": [
            "/usr/local/lib/python3.6/dist-packages/ipykernel_launcher.py:1: UserWarning: The `nb_epoch` argument in `fit` has been renamed `epochs`.\n",
            "  \"\"\"Entry point for launching an IPython kernel.\n"
          ],
          "name": "stderr"
        },
        {
          "output_type": "stream",
          "text": [
            "Epoch 1/10\n",
            "60000/60000 [==============================] - 31s 520us/step - loss: 0.1579 - acc: 0.9517\n",
            "Epoch 2/10\n",
            "60000/60000 [==============================] - 29s 476us/step - loss: 0.0489 - acc: 0.9849\n",
            "Epoch 3/10\n",
            "60000/60000 [==============================] - 30s 500us/step - loss: 0.0390 - acc: 0.9878\n",
            "Epoch 4/10\n",
            "60000/60000 [==============================] - 30s 493us/step - loss: 0.0334 - acc: 0.9892\n",
            "Epoch 5/10\n",
            "60000/60000 [==============================] - 30s 494us/step - loss: 0.0266 - acc: 0.9916\n",
            "Epoch 6/10\n",
            "60000/60000 [==============================] - 29s 486us/step - loss: 0.0252 - acc: 0.9916\n",
            "Epoch 7/10\n",
            "60000/60000 [==============================] - 30s 504us/step - loss: 0.0217 - acc: 0.9932\n",
            "Epoch 8/10\n",
            "60000/60000 [==============================] - 29s 488us/step - loss: 0.0193 - acc: 0.9937\n",
            "Epoch 9/10\n",
            "60000/60000 [==============================] - 30s 494us/step - loss: 0.0188 - acc: 0.9939\n",
            "Epoch 10/10\n",
            "60000/60000 [==============================] - 29s 491us/step - loss: 0.0153 - acc: 0.9948\n"
          ],
          "name": "stdout"
        },
        {
          "output_type": "execute_result",
          "data": {
            "text/plain": [
              "<keras.callbacks.History at 0x7fc1819792e8>"
            ]
          },
          "metadata": {
            "tags": []
          },
          "execution_count": 45
        }
      ]
    },
    {
      "cell_type": "code",
      "metadata": {
        "id": "nC62WtO7SpNS",
        "colab_type": "code",
        "colab": {}
      },
      "source": [
        ""
      ],
      "execution_count": 0,
      "outputs": []
    },
    {
      "cell_type": "code",
      "metadata": {
        "id": "byeooerQSXCZ",
        "colab_type": "code",
        "colab": {}
      },
      "source": [
        "score = model.evaluate(X_test, Y_test, verbose=0)"
      ],
      "execution_count": 0,
      "outputs": []
    },
    {
      "cell_type": "code",
      "metadata": {
        "id": "D6n2nmb_SW_d",
        "colab_type": "code",
        "outputId": "8cc0a139-b43b-4a7f-b61a-e558644959ab",
        "colab": {
          "base_uri": "https://localhost:8080/",
          "height": 34
        }
      },
      "source": [
        "print(score)"
      ],
      "execution_count": 0,
      "outputs": [
        {
          "output_type": "stream",
          "text": [
            "[0.03762937437078799, 0.9892]\n"
          ],
          "name": "stdout"
        }
      ]
    },
    {
      "cell_type": "code",
      "metadata": {
        "id": "xpHOTda_SW8T",
        "colab_type": "code",
        "outputId": "6c44cdac-a88b-41fb-a45a-0ad003f7cd1d",
        "colab": {
          "base_uri": "https://localhost:8080/",
          "height": 768
        }
      },
      "source": [
        "model.fit(X_train, Y_train, batch_size=32, nb_epoch=20, verbose=1)\n",
        "score = model.evaluate(X_test, Y_test, verbose=0)\n",
        "print(score)"
      ],
      "execution_count": 0,
      "outputs": [
        {
          "output_type": "stream",
          "text": [
            "Epoch 1/20\n",
            "  416/60000 [..............................] - ETA: 28s - loss: 0.0067 - acc: 1.0000"
          ],
          "name": "stdout"
        },
        {
          "output_type": "stream",
          "text": [
            "/usr/local/lib/python3.6/dist-packages/ipykernel_launcher.py:1: UserWarning: The `nb_epoch` argument in `fit` has been renamed `epochs`.\n",
            "  \"\"\"Entry point for launching an IPython kernel.\n"
          ],
          "name": "stderr"
        },
        {
          "output_type": "stream",
          "text": [
            "60000/60000 [==============================] - 29s 491us/step - loss: 0.0159 - acc: 0.9946\n",
            "Epoch 2/20\n",
            "60000/60000 [==============================] - 30s 494us/step - loss: 0.0142 - acc: 0.9953\n",
            "Epoch 3/20\n",
            "60000/60000 [==============================] - 29s 489us/step - loss: 0.0132 - acc: 0.9953\n",
            "Epoch 4/20\n",
            "60000/60000 [==============================] - 29s 490us/step - loss: 0.0115 - acc: 0.9962\n",
            "Epoch 5/20\n",
            "60000/60000 [==============================] - 29s 482us/step - loss: 0.0105 - acc: 0.9964\n",
            "Epoch 6/20\n",
            "60000/60000 [==============================] - 30s 501us/step - loss: 0.0100 - acc: 0.9965\n",
            "Epoch 7/20\n",
            "60000/60000 [==============================] - 30s 493us/step - loss: 0.0108 - acc: 0.9965\n",
            "Epoch 8/20\n",
            "60000/60000 [==============================] - 31s 519us/step - loss: 0.0094 - acc: 0.9970\n",
            "Epoch 9/20\n",
            "60000/60000 [==============================] - 30s 502us/step - loss: 0.0073 - acc: 0.9976\n",
            "Epoch 10/20\n",
            "60000/60000 [==============================] - 30s 492us/step - loss: 0.0085 - acc: 0.9972\n",
            "Epoch 11/20\n",
            "60000/60000 [==============================] - 30s 504us/step - loss: 0.0078 - acc: 0.9972\n",
            "Epoch 12/20\n",
            "60000/60000 [==============================] - 31s 509us/step - loss: 0.0078 - acc: 0.9975\n",
            "Epoch 13/20\n",
            "60000/60000 [==============================] - 29s 485us/step - loss: 0.0063 - acc: 0.9979\n",
            "Epoch 14/20\n",
            "60000/60000 [==============================] - 30s 501us/step - loss: 0.0073 - acc: 0.9975\n",
            "Epoch 15/20\n",
            "60000/60000 [==============================] - 30s 498us/step - loss: 0.0062 - acc: 0.9980\n",
            "Epoch 16/20\n",
            "60000/60000 [==============================] - 30s 504us/step - loss: 0.0058 - acc: 0.9980\n",
            "Epoch 17/20\n",
            "60000/60000 [==============================] - 30s 501us/step - loss: 0.0072 - acc: 0.9975\n",
            "Epoch 18/20\n",
            "60000/60000 [==============================] - 30s 499us/step - loss: 0.0048 - acc: 0.9984\n",
            "Epoch 19/20\n",
            "60000/60000 [==============================] - 29s 489us/step - loss: 0.0063 - acc: 0.9979\n",
            "Epoch 20/20\n",
            "60000/60000 [==============================] - 29s 485us/step - loss: 0.0051 - acc: 0.9984\n",
            "[0.04694523861565699, 0.9896]\n"
          ],
          "name": "stdout"
        }
      ]
    },
    {
      "cell_type": "code",
      "metadata": {
        "id": "zMSQn2QpUojI",
        "colab_type": "code",
        "colab": {}
      },
      "source": [
        "y_pred = model.predict(X_test)"
      ],
      "execution_count": 0,
      "outputs": []
    },
    {
      "cell_type": "code",
      "metadata": {
        "id": "cUFXJL--SW5R",
        "colab_type": "code",
        "outputId": "d927df3b-f27f-4532-dcda-261e3195c586",
        "colab": {
          "base_uri": "https://localhost:8080/",
          "height": 493
        }
      },
      "source": [
        "print(y_pred[:9])\n",
        "print(y_test[:9])"
      ],
      "execution_count": 0,
      "outputs": [
        {
          "output_type": "stream",
          "text": [
            "[[4.63958750e-16 5.19920724e-15 5.98378361e-11 2.41862190e-11\n",
            "  2.60989799e-25 2.63134655e-21 6.38740700e-22 1.00000000e+00\n",
            "  4.86502638e-17 1.09672937e-12]\n",
            " [2.70560895e-15 2.62780141e-13 1.00000000e+00 1.79106228e-16\n",
            "  1.73511539e-17 1.84159768e-23 3.90349503e-10 3.24373583e-18\n",
            "  8.37677341e-20 5.60488432e-19]\n",
            " [2.32487345e-11 9.99997497e-01 4.54764865e-10 1.33328446e-10\n",
            "  5.43478862e-08 6.74908351e-10 2.90011457e-07 9.79093073e-09\n",
            "  2.08992537e-06 6.02403516e-10]\n",
            " [1.00000000e+00 3.04184947e-21 3.52915966e-13 4.10172237e-16\n",
            "  2.47482162e-18 1.48941105e-14 2.99826719e-10 1.30248508e-16\n",
            "  9.40578019e-13 2.40510719e-14]\n",
            " [2.97406847e-13 9.87624045e-13 1.02940165e-13 2.25760073e-15\n",
            "  9.99998331e-01 1.42718858e-13 4.96548332e-15 7.25420277e-15\n",
            "  3.21580251e-09 1.64831101e-06]\n",
            " [2.03844081e-10 9.99999642e-01 4.21870539e-09 4.42181578e-12\n",
            "  3.62340891e-09 6.35095221e-13 4.35462860e-10 2.29375434e-08\n",
            "  3.01283450e-07 3.77570891e-11]\n",
            " [4.36548223e-29 5.29469343e-17 1.29890569e-19 6.02216928e-24\n",
            "  1.00000000e+00 1.11618554e-14 1.54483263e-26 1.50202997e-13\n",
            "  6.35964026e-15 6.51637815e-12]\n",
            " [1.70819672e-23 2.23873505e-17 2.68713295e-17 3.77277640e-17\n",
            "  3.94379841e-12 3.69192313e-17 5.84536994e-26 3.94025466e-17\n",
            "  2.23846392e-15 1.00000000e+00]\n",
            " [9.28753838e-23 1.37266781e-28 2.14069612e-19 1.18535931e-22\n",
            "  2.96179599e-27 9.99990344e-01 9.68256791e-06 2.94350408e-27\n",
            "  3.65484171e-15 7.49748429e-20]]\n",
            "[7 2 1 0 4 1 4 9 5]\n"
          ],
          "name": "stdout"
        }
      ]
    },
    {
      "cell_type": "markdown",
      "metadata": {
        "id": "AzIYAhagXVBx",
        "colab_type": "text"
      },
      "source": [
        "\n",
        "## In the above architecture we received an accuracy of 98.96% and used 11250 parameters with 20 epochs."
      ]
    },
    {
      "cell_type": "markdown",
      "metadata": {
        "id": "-ke7WgsuXtSX",
        "colab_type": "text"
      },
      "source": [
        "\n",
        "## Architecture - 5"
      ]
    },
    {
      "cell_type": "code",
      "metadata": {
        "id": "3S_DIbwPSW2Q",
        "colab_type": "code",
        "outputId": "ad6b1972-ce65-48b2-d079-6afb410f9295",
        "colab": {
          "base_uri": "https://localhost:8080/",
          "height": 207
        }
      },
      "source": [
        "from keras.layers import Activation\n",
        "model = Sequential()\n",
        "\n",
        " \n",
        "model.add(Convolution2D(10, 3, 3, activation='relu', input_shape=(28,28,1))) # 26\n",
        "model.add(BatchNormalization())\n",
        "\n",
        "model.add(Convolution2D(16, 3, 3, activation='relu')) # 24\n",
        "model.add(BatchNormalization())\n",
        "model.add(Convolution2D(32, 3, 3, activation='relu')) # 22\n",
        "model.add(BatchNormalization())\n",
        "\n",
        "model.add(MaxPooling2D(pool_size=(2, 2))) # 11\n",
        "model.add(Convolution2D(10, 1, 1, activation='relu')) # 11\n",
        "model.add(BatchNormalization())\n",
        "\n",
        "model.add(Convolution2D(16, 3, 3, activation='relu')) # 9\n",
        "model.add(BatchNormalization())\n",
        "model.add(Convolution2D(32, 3, 3, activation='relu')) # 7\n",
        "model.add(BatchNormalization())\n",
        "\n",
        "model.add(Convolution2D(10, 1, activation='relu')) #7\n",
        "model.add(BatchNormalization())\n",
        "model.add(Convolution2D(10, 7))\n",
        "model.add(Flatten())\n",
        "model.add(Activation('softmax'))"
      ],
      "execution_count": 0,
      "outputs": [
        {
          "output_type": "stream",
          "text": [
            "/usr/local/lib/python3.6/dist-packages/ipykernel_launcher.py:5: UserWarning: Update your `Conv2D` call to the Keras 2 API: `Conv2D(10, (3, 3), activation=\"relu\", input_shape=(28, 28, 1...)`\n",
            "  \"\"\"\n",
            "/usr/local/lib/python3.6/dist-packages/ipykernel_launcher.py:8: UserWarning: Update your `Conv2D` call to the Keras 2 API: `Conv2D(16, (3, 3), activation=\"relu\")`\n",
            "  \n",
            "/usr/local/lib/python3.6/dist-packages/ipykernel_launcher.py:10: UserWarning: Update your `Conv2D` call to the Keras 2 API: `Conv2D(32, (3, 3), activation=\"relu\")`\n",
            "  # Remove the CWD from sys.path while we load stuff.\n",
            "/usr/local/lib/python3.6/dist-packages/ipykernel_launcher.py:14: UserWarning: Update your `Conv2D` call to the Keras 2 API: `Conv2D(10, (1, 1), activation=\"relu\")`\n",
            "  \n",
            "/usr/local/lib/python3.6/dist-packages/ipykernel_launcher.py:17: UserWarning: Update your `Conv2D` call to the Keras 2 API: `Conv2D(16, (3, 3), activation=\"relu\")`\n",
            "/usr/local/lib/python3.6/dist-packages/ipykernel_launcher.py:19: UserWarning: Update your `Conv2D` call to the Keras 2 API: `Conv2D(32, (3, 3), activation=\"relu\")`\n"
          ],
          "name": "stderr"
        }
      ]
    },
    {
      "cell_type": "code",
      "metadata": {
        "id": "40vB0RaQSWze",
        "colab_type": "code",
        "outputId": "a88361ee-0a3b-4dd0-e171-3e968e3998a0",
        "colab": {
          "base_uri": "https://localhost:8080/",
          "height": 765
        }
      },
      "source": [
        "model.summary()"
      ],
      "execution_count": 0,
      "outputs": [
        {
          "output_type": "stream",
          "text": [
            "Model: \"sequential_6\"\n",
            "_________________________________________________________________\n",
            "Layer (type)                 Output Shape              Param #   \n",
            "=================================================================\n",
            "conv2d_29 (Conv2D)           (None, 26, 26, 10)        100       \n",
            "_________________________________________________________________\n",
            "batch_normalization_8 (Batch (None, 26, 26, 10)        40        \n",
            "_________________________________________________________________\n",
            "conv2d_30 (Conv2D)           (None, 24, 24, 16)        1456      \n",
            "_________________________________________________________________\n",
            "batch_normalization_9 (Batch (None, 24, 24, 16)        64        \n",
            "_________________________________________________________________\n",
            "conv2d_31 (Conv2D)           (None, 22, 22, 32)        4640      \n",
            "_________________________________________________________________\n",
            "batch_normalization_10 (Batc (None, 22, 22, 32)        128       \n",
            "_________________________________________________________________\n",
            "max_pooling2d_4 (MaxPooling2 (None, 11, 11, 32)        0         \n",
            "_________________________________________________________________\n",
            "conv2d_32 (Conv2D)           (None, 11, 11, 10)        330       \n",
            "_________________________________________________________________\n",
            "batch_normalization_11 (Batc (None, 11, 11, 10)        40        \n",
            "_________________________________________________________________\n",
            "conv2d_33 (Conv2D)           (None, 9, 9, 16)          1456      \n",
            "_________________________________________________________________\n",
            "batch_normalization_12 (Batc (None, 9, 9, 16)          64        \n",
            "_________________________________________________________________\n",
            "conv2d_34 (Conv2D)           (None, 7, 7, 32)          4640      \n",
            "_________________________________________________________________\n",
            "batch_normalization_13 (Batc (None, 7, 7, 32)          128       \n",
            "_________________________________________________________________\n",
            "conv2d_35 (Conv2D)           (None, 7, 7, 10)          330       \n",
            "_________________________________________________________________\n",
            "batch_normalization_14 (Batc (None, 7, 7, 10)          40        \n",
            "_________________________________________________________________\n",
            "conv2d_36 (Conv2D)           (None, 1, 1, 10)          4910      \n",
            "_________________________________________________________________\n",
            "flatten_5 (Flatten)          (None, 10)                0         \n",
            "_________________________________________________________________\n",
            "activation_5 (Activation)    (None, 10)                0         \n",
            "=================================================================\n",
            "Total params: 18,366\n",
            "Trainable params: 18,114\n",
            "Non-trainable params: 252\n",
            "_________________________________________________________________\n"
          ],
          "name": "stdout"
        }
      ]
    },
    {
      "cell_type": "code",
      "metadata": {
        "id": "c_khEZKGSWwe",
        "colab_type": "code",
        "colab": {}
      },
      "source": [
        "model.compile(loss='categorical_crossentropy',\n",
        "             optimizer='adam',\n",
        "             metrics=['accuracy'])"
      ],
      "execution_count": 0,
      "outputs": []
    },
    {
      "cell_type": "code",
      "metadata": {
        "id": "VC0Ig1IySWtr",
        "colab_type": "code",
        "outputId": "6d4131fe-c784-4c19-a1ee-fdfac71d911c",
        "colab": {
          "base_uri": "https://localhost:8080/",
          "height": 751
        }
      },
      "source": [
        "model.fit(X_train, Y_train, batch_size=32, \n",
        "          epochs=20, verbose=1, \n",
        "          validation_data=(X_test, Y_test), )"
      ],
      "execution_count": 0,
      "outputs": [
        {
          "output_type": "stream",
          "text": [
            "Train on 60000 samples, validate on 10000 samples\n",
            "Epoch 1/20\n",
            "60000/60000 [==============================] - 33s 557us/step - loss: 0.1318 - acc: 0.9599 - val_loss: 0.0684 - val_acc: 0.9791\n",
            "Epoch 2/20\n",
            "60000/60000 [==============================] - 31s 514us/step - loss: 0.0461 - acc: 0.9858 - val_loss: 0.0464 - val_acc: 0.9849\n",
            "Epoch 3/20\n",
            "60000/60000 [==============================] - 31s 517us/step - loss: 0.0355 - acc: 0.9888 - val_loss: 0.0400 - val_acc: 0.9862\n",
            "Epoch 4/20\n",
            "60000/60000 [==============================] - 31s 519us/step - loss: 0.0297 - acc: 0.9908 - val_loss: 0.0239 - val_acc: 0.9920\n",
            "Epoch 5/20\n",
            "60000/60000 [==============================] - 32s 536us/step - loss: 0.0247 - acc: 0.9918 - val_loss: 0.0281 - val_acc: 0.9906\n",
            "Epoch 6/20\n",
            "60000/60000 [==============================] - 31s 524us/step - loss: 0.0213 - acc: 0.9934 - val_loss: 0.0418 - val_acc: 0.9867\n",
            "Epoch 7/20\n",
            "60000/60000 [==============================] - 32s 532us/step - loss: 0.0187 - acc: 0.9941 - val_loss: 0.0306 - val_acc: 0.9903\n",
            "Epoch 8/20\n",
            "60000/60000 [==============================] - 32s 526us/step - loss: 0.0172 - acc: 0.9945 - val_loss: 0.0400 - val_acc: 0.9872\n",
            "Epoch 9/20\n",
            "60000/60000 [==============================] - 32s 535us/step - loss: 0.0155 - acc: 0.9948 - val_loss: 0.0241 - val_acc: 0.9921\n",
            "Epoch 10/20\n",
            "60000/60000 [==============================] - 32s 528us/step - loss: 0.0132 - acc: 0.9954 - val_loss: 0.0311 - val_acc: 0.9905\n",
            "Epoch 11/20\n",
            "60000/60000 [==============================] - 31s 519us/step - loss: 0.0132 - acc: 0.9957 - val_loss: 0.0281 - val_acc: 0.9910\n",
            "Epoch 12/20\n",
            "60000/60000 [==============================] - 31s 518us/step - loss: 0.0096 - acc: 0.9968 - val_loss: 0.0356 - val_acc: 0.9904\n",
            "Epoch 13/20\n",
            "60000/60000 [==============================] - 31s 513us/step - loss: 0.0102 - acc: 0.9968 - val_loss: 0.0349 - val_acc: 0.9901\n",
            "Epoch 14/20\n",
            "60000/60000 [==============================] - 32s 527us/step - loss: 0.0097 - acc: 0.9967 - val_loss: 0.0265 - val_acc: 0.9922\n",
            "Epoch 15/20\n",
            "60000/60000 [==============================] - 31s 511us/step - loss: 0.0090 - acc: 0.9967 - val_loss: 0.0307 - val_acc: 0.9918\n",
            "Epoch 16/20\n",
            "60000/60000 [==============================] - 31s 524us/step - loss: 0.0079 - acc: 0.9972 - val_loss: 0.0271 - val_acc: 0.9927\n",
            "Epoch 17/20\n",
            "60000/60000 [==============================] - 32s 527us/step - loss: 0.0073 - acc: 0.9972 - val_loss: 0.0371 - val_acc: 0.9908\n",
            "Epoch 18/20\n",
            "60000/60000 [==============================] - 32s 532us/step - loss: 0.0080 - acc: 0.9973 - val_loss: 0.0357 - val_acc: 0.9907\n",
            "Epoch 19/20\n",
            "60000/60000 [==============================] - 32s 538us/step - loss: 0.0064 - acc: 0.9980 - val_loss: 0.0337 - val_acc: 0.9914\n",
            "Epoch 20/20\n",
            "60000/60000 [==============================] - 31s 522us/step - loss: 0.0061 - acc: 0.9978 - val_loss: 0.0381 - val_acc: 0.9900\n"
          ],
          "name": "stdout"
        },
        {
          "output_type": "execute_result",
          "data": {
            "text/plain": [
              "<keras.callbacks.History at 0x7fc181553400>"
            ]
          },
          "metadata": {
            "tags": []
          },
          "execution_count": 54
        }
      ]
    },
    {
      "cell_type": "code",
      "metadata": {
        "id": "curPYaZ9SWq9",
        "colab_type": "code",
        "outputId": "45a0a549-8f75-4283-df0a-2bc91f9cb760",
        "colab": {
          "base_uri": "https://localhost:8080/",
          "height": 34
        }
      },
      "source": [
        "score = model.evaluate(X_test, Y_test, verbose=0)\n",
        "print(score)"
      ],
      "execution_count": 0,
      "outputs": [
        {
          "output_type": "stream",
          "text": [
            "[0.038111929804226244, 0.99]\n"
          ],
          "name": "stdout"
        }
      ]
    },
    {
      "cell_type": "code",
      "metadata": {
        "id": "YqgtqQpGSWnx",
        "colab_type": "code",
        "colab": {}
      },
      "source": [
        "y_pred = model.predict(X_test)"
      ],
      "execution_count": 0,
      "outputs": []
    },
    {
      "cell_type": "code",
      "metadata": {
        "id": "H9yHFh59SWkp",
        "colab_type": "code",
        "outputId": "a5deb81c-2008-4dfd-e49c-452f0abb71db",
        "colab": {
          "base_uri": "https://localhost:8080/",
          "height": 493
        }
      },
      "source": [
        "print(y_pred[:9])\n",
        "print(y_test[:9])"
      ],
      "execution_count": 0,
      "outputs": [
        {
          "output_type": "stream",
          "text": [
            "[[5.45611848e-18 1.65653786e-12 1.23251053e-11 4.04851597e-10\n",
            "  2.10261662e-16 8.31547120e-16 5.33748337e-24 1.00000000e+00\n",
            "  7.45863001e-17 1.12208029e-12]\n",
            " [1.57321967e-09 1.65682865e-12 1.00000000e+00 6.43233253e-12\n",
            "  1.48696783e-13 9.04036962e-19 1.53854152e-09 6.83005906e-15\n",
            "  2.26803971e-12 1.30559409e-16]\n",
            " [2.08251146e-12 9.99999166e-01 8.31655245e-10 3.36532052e-11\n",
            "  4.59306676e-07 8.90948915e-09 3.11073589e-09 5.71255896e-08\n",
            "  3.45270536e-07 5.62196600e-12]\n",
            " [9.99999881e-01 6.46281052e-18 3.44646794e-12 8.45258074e-15\n",
            "  1.25747828e-12 1.33259585e-14 7.15528543e-08 7.54750656e-15\n",
            "  1.70253980e-12 1.96230721e-09]\n",
            " [1.50041563e-16 6.75248776e-17 2.62175325e-17 1.27839374e-17\n",
            "  1.00000000e+00 1.69113685e-17 3.21731780e-16 2.36674108e-17\n",
            "  1.00569619e-15 1.35305045e-09]\n",
            " [3.39672951e-13 9.99999404e-01 2.28053368e-10 1.72633690e-13\n",
            "  4.73347882e-07 1.01068057e-10 1.48421154e-11 1.72304951e-07\n",
            "  1.18638281e-08 7.39417069e-11]\n",
            " [8.63242941e-21 5.59373554e-11 6.01592551e-16 4.45212031e-17\n",
            "  1.00000000e+00 2.28826332e-15 5.88389915e-17 1.37877730e-12\n",
            "  3.78684806e-10 2.03225214e-11]\n",
            " [3.19626832e-14 3.77381702e-11 1.80158197e-11 1.57786464e-10\n",
            "  4.00983913e-09 2.00774966e-10 6.11208241e-13 7.05265082e-11\n",
            "  2.62873143e-11 1.00000000e+00]\n",
            " [3.19232669e-07 2.91577037e-16 1.87219828e-14 1.00253236e-10\n",
            "  3.34865881e-12 9.97677028e-01 2.14621518e-03 5.07805278e-13\n",
            "  1.76132773e-04 1.94293079e-07]]\n",
            "[7 2 1 0 4 1 4 9 5]\n"
          ],
          "name": "stdout"
        }
      ]
    },
    {
      "cell_type": "markdown",
      "metadata": {
        "id": "3905wVPdbBno",
        "colab_type": "text"
      },
      "source": [
        "## We received an accuracy of 99.27% in the 16th epoch using 18366 parameters."
      ]
    },
    {
      "cell_type": "markdown",
      "metadata": {
        "id": "uxB1te5Usheq",
        "colab_type": "text"
      },
      "source": [
        "# Trying Next Architecture to getter better accuracy under less parameters."
      ]
    },
    {
      "cell_type": "code",
      "metadata": {
        "id": "frO-ty3fSWZ0",
        "colab_type": "code",
        "outputId": "7ae0b91c-2ff1-4f88-da53-8d614e9a5e6e",
        "colab": {
          "base_uri": "https://localhost:8080/",
          "height": 1000
        }
      },
      "source": [
        "from keras.layers import Activation\n",
        "model = Sequential()\n",
        " \n",
        "model.add(Convolution2D(16,3,3, activation='relu', input_shape=(28,28,1), use_bias = False)) #26\n",
        "model.add(BatchNormalization())\n",
        "model.add(Dropout(0.1))\n",
        "\n",
        "model.add(MaxPooling2D(pool_size=(2, 2)))#13\n",
        "\n",
        "\n",
        "model.add(Convolution2D(32, 3, 3, activation='relu')) #11\n",
        "model.add(BatchNormalization())\n",
        "model.add(Dropout(0.1))\n",
        "\n",
        "\n",
        "model.add(Convolution2D(10, 1, 1, activation='relu')) #11\n",
        "model.add(BatchNormalization())\n",
        "model.add(Dropout(0.1))\n",
        "\n",
        "\n",
        "model.add(Convolution2D(16, 3, 3, activation='relu'))#9\n",
        "model.add(BatchNormalization())\n",
        "model.add(Dropout(0.1))\n",
        "\n",
        "model.add(Convolution2D(16, 3, 3, activation='relu'))#7\n",
        "model.add(BatchNormalization())\n",
        "model.add(Dropout(0.1))\n",
        "\n",
        "model.add(MaxPooling2D(pool_size=(2, 2)))#3\n",
        "\n",
        "\n",
        "\n",
        "model.add(Convolution2D(10, 3,3))\n",
        "model.add(BatchNormalization())\n",
        "model.add(Dropout(0.1))\n",
        "\n",
        "\n",
        "model.add(Flatten())\n",
        "model.add(Activation('softmax'))\n",
        "\n",
        "\n",
        "model.summary()"
      ],
      "execution_count": 0,
      "outputs": [
        {
          "output_type": "stream",
          "text": [
            "/usr/local/lib/python3.6/dist-packages/ipykernel_launcher.py:4: UserWarning: Update your `Conv2D` call to the Keras 2 API: `Conv2D(16, (3, 3), activation=\"relu\", input_shape=(28, 28, 1..., use_bias=False)`\n",
            "  after removing the cwd from sys.path.\n",
            "/usr/local/lib/python3.6/dist-packages/ipykernel_launcher.py:11: UserWarning: Update your `Conv2D` call to the Keras 2 API: `Conv2D(32, (3, 3), activation=\"relu\")`\n",
            "  # This is added back by InteractiveShellApp.init_path()\n",
            "/usr/local/lib/python3.6/dist-packages/ipykernel_launcher.py:16: UserWarning: Update your `Conv2D` call to the Keras 2 API: `Conv2D(10, (1, 1), activation=\"relu\")`\n",
            "  app.launch_new_instance()\n",
            "/usr/local/lib/python3.6/dist-packages/ipykernel_launcher.py:21: UserWarning: Update your `Conv2D` call to the Keras 2 API: `Conv2D(16, (3, 3), activation=\"relu\")`\n",
            "/usr/local/lib/python3.6/dist-packages/ipykernel_launcher.py:25: UserWarning: Update your `Conv2D` call to the Keras 2 API: `Conv2D(16, (3, 3), activation=\"relu\")`\n",
            "/usr/local/lib/python3.6/dist-packages/ipykernel_launcher.py:43: UserWarning: Update your `Conv2D` call to the Keras 2 API: `Conv2D(10, (3, 3))`\n"
          ],
          "name": "stderr"
        },
        {
          "output_type": "stream",
          "text": [
            "Model: \"sequential_23\"\n",
            "_________________________________________________________________\n",
            "Layer (type)                 Output Shape              Param #   \n",
            "=================================================================\n",
            "conv2d_153 (Conv2D)          (None, 26, 26, 16)        144       \n",
            "_________________________________________________________________\n",
            "batch_normalization_124 (Bat (None, 26, 26, 16)        64        \n",
            "_________________________________________________________________\n",
            "dropout_110 (Dropout)        (None, 26, 26, 16)        0         \n",
            "_________________________________________________________________\n",
            "max_pooling2d_23 (MaxPooling (None, 13, 13, 16)        0         \n",
            "_________________________________________________________________\n",
            "conv2d_154 (Conv2D)          (None, 11, 11, 32)        4640      \n",
            "_________________________________________________________________\n",
            "batch_normalization_125 (Bat (None, 11, 11, 32)        128       \n",
            "_________________________________________________________________\n",
            "dropout_111 (Dropout)        (None, 11, 11, 32)        0         \n",
            "_________________________________________________________________\n",
            "conv2d_155 (Conv2D)          (None, 11, 11, 10)        330       \n",
            "_________________________________________________________________\n",
            "batch_normalization_126 (Bat (None, 11, 11, 10)        40        \n",
            "_________________________________________________________________\n",
            "dropout_112 (Dropout)        (None, 11, 11, 10)        0         \n",
            "_________________________________________________________________\n",
            "conv2d_156 (Conv2D)          (None, 9, 9, 16)          1456      \n",
            "_________________________________________________________________\n",
            "batch_normalization_127 (Bat (None, 9, 9, 16)          64        \n",
            "_________________________________________________________________\n",
            "dropout_113 (Dropout)        (None, 9, 9, 16)          0         \n",
            "_________________________________________________________________\n",
            "conv2d_157 (Conv2D)          (None, 7, 7, 16)          2320      \n",
            "_________________________________________________________________\n",
            "batch_normalization_128 (Bat (None, 7, 7, 16)          64        \n",
            "_________________________________________________________________\n",
            "dropout_114 (Dropout)        (None, 7, 7, 16)          0         \n",
            "_________________________________________________________________\n",
            "max_pooling2d_24 (MaxPooling (None, 3, 3, 16)          0         \n",
            "_________________________________________________________________\n",
            "conv2d_158 (Conv2D)          (None, 1, 1, 10)          1450      \n",
            "_________________________________________________________________\n",
            "batch_normalization_129 (Bat (None, 1, 1, 10)          40        \n",
            "_________________________________________________________________\n",
            "dropout_115 (Dropout)        (None, 1, 1, 10)          0         \n",
            "_________________________________________________________________\n",
            "flatten_20 (Flatten)         (None, 10)                0         \n",
            "_________________________________________________________________\n",
            "activation_20 (Activation)   (None, 10)                0         \n",
            "=================================================================\n",
            "Total params: 10,740\n",
            "Trainable params: 10,540\n",
            "Non-trainable params: 200\n",
            "_________________________________________________________________\n"
          ],
          "name": "stdout"
        }
      ]
    },
    {
      "cell_type": "code",
      "metadata": {
        "id": "HzRhyg4SSWXE",
        "colab_type": "code",
        "outputId": "2351a916-7460-4f94-ed56-69328393e0da",
        "colab": {
          "base_uri": "https://localhost:8080/",
          "height": 1000
        }
      },
      "source": [
        "from keras.optimizers import Adam\n",
        "from keras.callbacks import LearningRateScheduler\n",
        "def scheduler(epoch, lr):\n",
        "  return round(0.003 * 1/(1 + 0.319 * epoch), 10)\n",
        "\n",
        "model.compile(loss='categorical_crossentropy', optimizer=Adam(lr=0.003), metrics=['accuracy'])\n",
        "\n",
        "model.fit(X_train, Y_train, batch_size=128, epochs=20, verbose=1, validation_data=(X_test, Y_test), callbacks=[LearningRateScheduler(scheduler, verbose=1)])"
      ],
      "execution_count": 0,
      "outputs": [
        {
          "output_type": "stream",
          "text": [
            "Train on 60000 samples, validate on 10000 samples\n",
            "Epoch 1/20\n",
            "\n",
            "Epoch 00001: LearningRateScheduler setting learning rate to 0.003.\n",
            "60000/60000 [==============================] - 16s 267us/step - loss: 0.5288 - acc: 0.8548 - val_loss: 0.1277 - val_acc: 0.9780\n",
            "Epoch 2/20\n",
            "\n",
            "Epoch 00002: LearningRateScheduler setting learning rate to 0.0022744503.\n",
            "60000/60000 [==============================] - 8s 133us/step - loss: 0.2703 - acc: 0.9165 - val_loss: 0.0905 - val_acc: 0.9844\n",
            "Epoch 3/20\n",
            "\n",
            "Epoch 00003: LearningRateScheduler setting learning rate to 0.0018315018.\n",
            "60000/60000 [==============================] - 8s 130us/step - loss: 0.2147 - acc: 0.9334 - val_loss: 0.0609 - val_acc: 0.9883\n",
            "Epoch 4/20\n",
            "\n",
            "Epoch 00004: LearningRateScheduler setting learning rate to 0.0015329586.\n",
            "60000/60000 [==============================] - 8s 127us/step - loss: 0.1854 - acc: 0.9397 - val_loss: 0.0553 - val_acc: 0.9899\n",
            "Epoch 5/20\n",
            "\n",
            "Epoch 00005: LearningRateScheduler setting learning rate to 0.0013181019.\n",
            "60000/60000 [==============================] - 8s 127us/step - loss: 0.1674 - acc: 0.9421 - val_loss: 0.0474 - val_acc: 0.9911\n",
            "Epoch 6/20\n",
            "\n",
            "Epoch 00006: LearningRateScheduler setting learning rate to 0.0011560694.\n",
            "60000/60000 [==============================] - 8s 133us/step - loss: 0.1538 - acc: 0.9463 - val_loss: 0.0431 - val_acc: 0.9915\n",
            "Epoch 7/20\n",
            "\n",
            "Epoch 00007: LearningRateScheduler setting learning rate to 0.0010295127.\n",
            "60000/60000 [==============================] - 8s 130us/step - loss: 0.1446 - acc: 0.9479 - val_loss: 0.0354 - val_acc: 0.9915\n",
            "Epoch 8/20\n",
            "\n",
            "Epoch 00008: LearningRateScheduler setting learning rate to 0.0009279307.\n",
            "60000/60000 [==============================] - 8s 131us/step - loss: 0.1340 - acc: 0.9512 - val_loss: 0.0344 - val_acc: 0.9929\n",
            "Epoch 9/20\n",
            "\n",
            "Epoch 00009: LearningRateScheduler setting learning rate to 0.0008445946.\n",
            "60000/60000 [==============================] - 8s 133us/step - loss: 0.1281 - acc: 0.9529 - val_loss: 0.0317 - val_acc: 0.9933\n",
            "Epoch 10/20\n",
            "\n",
            "Epoch 00010: LearningRateScheduler setting learning rate to 0.0007749935.\n",
            "60000/60000 [==============================] - 8s 132us/step - loss: 0.1225 - acc: 0.9530 - val_loss: 0.0286 - val_acc: 0.9928\n",
            "Epoch 11/20\n",
            "\n",
            "Epoch 00011: LearningRateScheduler setting learning rate to 0.0007159905.\n",
            "60000/60000 [==============================] - 8s 129us/step - loss: 0.1206 - acc: 0.9526 - val_loss: 0.0276 - val_acc: 0.9935\n",
            "Epoch 12/20\n",
            "\n",
            "Epoch 00012: LearningRateScheduler setting learning rate to 0.000665336.\n",
            "60000/60000 [==============================] - 8s 126us/step - loss: 0.1166 - acc: 0.9535 - val_loss: 0.0284 - val_acc: 0.9932\n",
            "Epoch 13/20\n",
            "\n",
            "Epoch 00013: LearningRateScheduler setting learning rate to 0.0006213753.\n",
            "60000/60000 [==============================] - 8s 128us/step - loss: 0.1142 - acc: 0.9546 - val_loss: 0.0258 - val_acc: 0.9928\n",
            "Epoch 14/20\n",
            "\n",
            "Epoch 00014: LearningRateScheduler setting learning rate to 0.0005828638.\n",
            "60000/60000 [==============================] - 8s 134us/step - loss: 0.1124 - acc: 0.9543 - val_loss: 0.0262 - val_acc: 0.9929\n",
            "Epoch 15/20\n",
            "\n",
            "Epoch 00015: LearningRateScheduler setting learning rate to 0.0005488474.\n",
            "60000/60000 [==============================] - 8s 135us/step - loss: 0.1095 - acc: 0.9546 - val_loss: 0.0251 - val_acc: 0.9940\n",
            "Epoch 16/20\n",
            "\n",
            "Epoch 00016: LearningRateScheduler setting learning rate to 0.0005185825.\n",
            "60000/60000 [==============================] - 8s 133us/step - loss: 0.1085 - acc: 0.9547 - val_loss: 0.0255 - val_acc: 0.9923\n",
            "Epoch 17/20\n",
            "\n",
            "Epoch 00017: LearningRateScheduler setting learning rate to 0.000491481.\n",
            "60000/60000 [==============================] - 8s 136us/step - loss: 0.1043 - acc: 0.9558 - val_loss: 0.0247 - val_acc: 0.9936\n",
            "Epoch 18/20\n",
            "\n",
            "Epoch 00018: LearningRateScheduler setting learning rate to 0.0004670715.\n",
            "60000/60000 [==============================] - 8s 132us/step - loss: 0.1058 - acc: 0.9543 - val_loss: 0.0233 - val_acc: 0.9936\n",
            "Epoch 19/20\n",
            "\n",
            "Epoch 00019: LearningRateScheduler setting learning rate to 0.0004449718.\n",
            "60000/60000 [==============================] - 8s 127us/step - loss: 0.1044 - acc: 0.9545 - val_loss: 0.0237 - val_acc: 0.9931\n",
            "Epoch 20/20\n",
            "\n",
            "Epoch 00020: LearningRateScheduler setting learning rate to 0.000424869.\n",
            "60000/60000 [==============================] - 8s 130us/step - loss: 0.1027 - acc: 0.9553 - val_loss: 0.0233 - val_acc: 0.9939\n"
          ],
          "name": "stdout"
        },
        {
          "output_type": "execute_result",
          "data": {
            "text/plain": [
              "<keras.callbacks.History at 0x7fc17dca7400>"
            ]
          },
          "metadata": {
            "tags": []
          },
          "execution_count": 81
        }
      ]
    },
    {
      "cell_type": "code",
      "metadata": {
        "id": "dRqgb2NcSWUK",
        "colab_type": "code",
        "outputId": "60911cc0-72a3-4283-f2a0-490a6044cd03",
        "colab": {
          "base_uri": "https://localhost:8080/",
          "height": 34
        }
      },
      "source": [
        "score = model.evaluate(X_test, Y_test, verbose=0)\n",
        "print(score)"
      ],
      "execution_count": 0,
      "outputs": [
        {
          "output_type": "stream",
          "text": [
            "[0.02330707768909633, 0.9939]\n"
          ],
          "name": "stdout"
        }
      ]
    },
    {
      "cell_type": "code",
      "metadata": {
        "id": "e0SJVjsaSWO4",
        "colab_type": "code",
        "colab": {}
      },
      "source": [
        ""
      ],
      "execution_count": 0,
      "outputs": []
    },
    {
      "cell_type": "markdown",
      "metadata": {
        "id": "87lSgo9fsvRb",
        "colab_type": "text"
      },
      "source": [
        "# We received an accuracy of 99.40% in the 15th epoch using 10540 trainable  parameters."
      ]
    },
    {
      "cell_type": "code",
      "metadata": {
        "id": "5UdK1mDkSWL2",
        "colab_type": "code",
        "colab": {}
      },
      "source": [
        ""
      ],
      "execution_count": 0,
      "outputs": []
    }
  ]
}